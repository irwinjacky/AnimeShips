{
 "cells": [
  {
   "cell_type": "markdown",
   "id": "6b6c56eb",
   "metadata": {},
   "source": [
    "# Statistics and Analysis of Ships and Anime "
   ]
  },
  {
   "cell_type": "code",
   "execution_count": 1,
   "id": "2afffb63",
   "metadata": {},
   "outputs": [],
   "source": [
    "#Import libraries\n",
    "import pandas as pd\n",
    "import numpy as np\n",
    "import datetime\n",
    "import ast\n",
    "\n",
    "from sklearn.cluster import KMeans\n",
    "from sklearn import metrics\n",
    "from sklearn.metrics import silhouette_samples, silhouette_score\n",
    "from sklearn.preprocessing import MinMaxScaler\n",
    "\n",
    "import matplotlib.cm as cm\n",
    "import matplotlib.pyplot as plt\n",
    "from matplotlib.colors import ListedColormap\n",
    "\n",
    "\n",
    "%matplotlib inline\n",
    "plt.rcParams['figure.figsize'] = (10, 6)\n",
    "plt.style.use('ggplot')"
   ]
  },
  {
   "cell_type": "code",
   "execution_count": 53,
   "id": "08f6335c",
   "metadata": {},
   "outputs": [],
   "source": [
    "# Characters who appear >10 times in the fanfiction, their names gathered into a in a csv file. Converted to pandas DF.\n",
    "characters = pd.read_csv('myhero_names.csv')\n",
    "\n",
    "# Archive of Our Own\n",
    "AO3 = pd.read_csv('AO3.csv')\n",
    "AO3['published'] = pd.to_datetime(AO3['published'])\n",
    "\n",
    "# Series overview: Original season number, Number of episodes, First aired, and Last aired.\n",
    "og_season_anime_airdate = pd.read_csv('og_air_clean.csv')\n",
    "\n",
    "# Season 1 Episode number overall, Episode number in the season, Title, Storyboarded by, Directed by,\n",
    "#     Written by, Original air date, and English air date.\n",
    "season_one_anime = pd.read_csv('season_one_clean.csv')\n",
    "\n",
    "# Season 2-6 Episode number overall, Episode number in the season, Title, Storyboarded by, Directed by,\n",
    "#     Written by, Viewership rating, Original air date, and English air date.\n",
    "season_two_anime = pd.read_csv('season_two_clean.csv')\n",
    "season_three_anime = pd.read_csv('season_three_clean.csv')\n",
    "season_four_anime = pd.read_csv('season_four_clean.csv')\n",
    "season_five_anime = pd.read_csv('season_five_clean.csv')\n",
    "season_six_anime = pd.read_csv('season_six_clean.csv')\n",
    "\n",
    "# Original Video Animation (OVA) titled \"Save! Rescue Training!\"\n",
    "# Number (8 total released), Title, Storyboard by, Directed by, Written by, Original release date.\n",
    "og_vid_animation_anime =  pd.read_csv('OVAs_clean.csv')\n",
    "\n",
    "# Japan Home Video Release\n",
    "# Season, Volume, Epsiodes, Release date.\n",
    "Japan_homevid_release_anime = pd.read_csv('Japan_HV_clean.csv')\n",
    "\n",
    "# Funimation/Crunchyroll (North America)\n",
    "# Season, Volume, Episodes, Release date.\n",
    "funimation_crunchyroll_anime = pd.read_csv('Fun_Crunch_NA_clean.csv')\n",
    "\n",
    "# Universal Pictures/Manga Entertainment (UK and Ireland)\n",
    "# Season, Volume, Episodes, Release date.\n",
    "universalpictures_manga_anime = pd.read_csv('Up_Uk_clean.csv')\n",
    "\n",
    "# Universal Sony/Madman Entertainment (Australia and New Zealand)\n",
    "# Season, Volume, Episodes, Release date Universal, Release date Madman.\n",
    "universalsony_madman_anime = pd.read_csv('Us_Me_clean.csv')\n",
    "\n",
    "# Manga\n",
    "manga = pd.read_csv('mangas_clean.csv')"
   ]
  },
  {
   "cell_type": "code",
   "execution_count": 3,
   "id": "a56c2509",
   "metadata": {},
   "outputs": [],
   "source": [
    "name_1 = [x for x in characters['1'].values]\n",
    "name_2 = [x for x in (characters['2'].dropna().values)]\n",
    "mhanames = name_1 + name_2\n"
   ]
  },
  {
   "cell_type": "code",
   "execution_count": 4,
   "id": "c2dc6cde",
   "metadata": {},
   "outputs": [
    {
     "data": {
      "text/html": [
       "<div>\n",
       "<style scoped>\n",
       "    .dataframe tbody tr th:only-of-type {\n",
       "        vertical-align: middle;\n",
       "    }\n",
       "\n",
       "    .dataframe tbody tr th {\n",
       "        vertical-align: top;\n",
       "    }\n",
       "\n",
       "    .dataframe thead th {\n",
       "        text-align: right;\n",
       "    }\n",
       "</style>\n",
       "<table border=\"1\" class=\"dataframe\">\n",
       "  <thead>\n",
       "    <tr style=\"text-align: right;\">\n",
       "      <th></th>\n",
       "      <th>No.overall</th>\n",
       "      <th>No. inseason</th>\n",
       "      <th>Title</th>\n",
       "      <th>Storyboarded by</th>\n",
       "      <th>Directed by</th>\n",
       "      <th>Written by</th>\n",
       "      <th>Original_Air_Date</th>\n",
       "      <th>English_Air_Date</th>\n",
       "    </tr>\n",
       "  </thead>\n",
       "  <tbody>\n",
       "    <tr>\n",
       "      <th>0</th>\n",
       "      <td>1</td>\n",
       "      <td>1</td>\n",
       "      <td>\"Izuku Midoriya: Origin\"Transcription: \"Midori...</td>\n",
       "      <td>Kenji Nagasaki</td>\n",
       "      <td>Takurō Tsukada</td>\n",
       "      <td>Yōsuke Kuroda</td>\n",
       "      <td>2016-04-03</td>\n",
       "      <td>2018-05-05</td>\n",
       "    </tr>\n",
       "    <tr>\n",
       "      <th>1</th>\n",
       "      <td>2</td>\n",
       "      <td>2</td>\n",
       "      <td>\"What It Takes to Be a Hero\"Transcription: \"Hī...</td>\n",
       "      <td>Kenji Nagasaki</td>\n",
       "      <td>Daisuke Tsukushi</td>\n",
       "      <td>Yōsuke Kuroda</td>\n",
       "      <td>2016-04-10</td>\n",
       "      <td>2018-05-12</td>\n",
       "    </tr>\n",
       "    <tr>\n",
       "      <th>2</th>\n",
       "      <td>3</td>\n",
       "      <td>3</td>\n",
       "      <td>\"Roaring Muscles\"Transcription: \"Unare kin'nik...</td>\n",
       "      <td>Katsumi Terahigashi</td>\n",
       "      <td>Yoshifumi Sasahara</td>\n",
       "      <td>Yōsuke Kuroda</td>\n",
       "      <td>2016-04-17</td>\n",
       "      <td>2018-05-19</td>\n",
       "    </tr>\n",
       "    <tr>\n",
       "      <th>3</th>\n",
       "      <td>4</td>\n",
       "      <td>4</td>\n",
       "      <td>\"Start Line\"Transcription: \"Sutaatorain\" (Japa...</td>\n",
       "      <td>Tōru Yoshida</td>\n",
       "      <td>Masato Miyoshi</td>\n",
       "      <td>Yōsuke Kuroda</td>\n",
       "      <td>2016-04-24</td>\n",
       "      <td>2018-06-02</td>\n",
       "    </tr>\n",
       "    <tr>\n",
       "      <th>4</th>\n",
       "      <td>5</td>\n",
       "      <td>5</td>\n",
       "      <td>\"What I Can Do For Now\"Transcription: \"Ima Bok...</td>\n",
       "      <td>Katsuyuki Kodera</td>\n",
       "      <td>Satoshi Nakagawa</td>\n",
       "      <td>Yōsuke Kuroda</td>\n",
       "      <td>2016-05-01</td>\n",
       "      <td>2018-06-09</td>\n",
       "    </tr>\n",
       "    <tr>\n",
       "      <th>5</th>\n",
       "      <td>6</td>\n",
       "      <td>6</td>\n",
       "      <td>\"Rage, You Damned Nerd\"Transcription: \"Takere ...</td>\n",
       "      <td>Kō Matsuo</td>\n",
       "      <td>Takurō Tsukada</td>\n",
       "      <td>Yōsuke Kuroda</td>\n",
       "      <td>2016-05-08</td>\n",
       "      <td>2018-06-16</td>\n",
       "    </tr>\n",
       "    <tr>\n",
       "      <th>6</th>\n",
       "      <td>7</td>\n",
       "      <td>7</td>\n",
       "      <td>\"Deku vs. Kacchan\"Transcription: \"Deku bāsasu ...</td>\n",
       "      <td>Takayuki Tanaka</td>\n",
       "      <td>Geisei Morita</td>\n",
       "      <td>Yōsuke Kuroda</td>\n",
       "      <td>2016-05-15</td>\n",
       "      <td>2018-06-23</td>\n",
       "    </tr>\n",
       "    <tr>\n",
       "      <th>7</th>\n",
       "      <td>8</td>\n",
       "      <td>8</td>\n",
       "      <td>\"Bakugo's Start Line\"Transcription: \"Sutāto Ra...</td>\n",
       "      <td>Satomi Nakamura</td>\n",
       "      <td>Yoshifumi Sasahara</td>\n",
       "      <td>Yōsuke Kuroda</td>\n",
       "      <td>2016-05-22</td>\n",
       "      <td>2018-06-30</td>\n",
       "    </tr>\n",
       "    <tr>\n",
       "      <th>8</th>\n",
       "      <td>9</td>\n",
       "      <td>9</td>\n",
       "      <td>\"Yeah, Just Do Your Best, Ida!\"Transcription: ...</td>\n",
       "      <td>Katsuyuki Kodera</td>\n",
       "      <td>Masashi Abe</td>\n",
       "      <td>Yōsuke Kuroda</td>\n",
       "      <td>2016-05-29</td>\n",
       "      <td>2018-07-07</td>\n",
       "    </tr>\n",
       "    <tr>\n",
       "      <th>9</th>\n",
       "      <td>10</td>\n",
       "      <td>10</td>\n",
       "      <td>\"Encounter with the Unknown\"Transcription: \"Mi...</td>\n",
       "      <td>Shinji Ishihira</td>\n",
       "      <td>Takurō Tsukada</td>\n",
       "      <td>Yōsuke Kuroda</td>\n",
       "      <td>2016-06-05</td>\n",
       "      <td>2018-07-14</td>\n",
       "    </tr>\n",
       "    <tr>\n",
       "      <th>10</th>\n",
       "      <td>11</td>\n",
       "      <td>11</td>\n",
       "      <td>\"Game Over\"Transcription: \"Gēmu Ōbā\" (Japanese...</td>\n",
       "      <td>Takahiro Natori</td>\n",
       "      <td>Takahiro Natori</td>\n",
       "      <td>Yōsuke Kuroda</td>\n",
       "      <td>2016-06-12</td>\n",
       "      <td>2018-07-21</td>\n",
       "    </tr>\n",
       "    <tr>\n",
       "      <th>11</th>\n",
       "      <td>12</td>\n",
       "      <td>12</td>\n",
       "      <td>\"All Might\"Transcription: \"Ōrumaito\" (Japanese...</td>\n",
       "      <td>Tōru Yoshida,Hakuyu Go</td>\n",
       "      <td>Tsuyoshi Tobita,Hakuyu Go</td>\n",
       "      <td>Yōsuke Kuroda</td>\n",
       "      <td>2016-06-19</td>\n",
       "      <td>2018-07-28</td>\n",
       "    </tr>\n",
       "    <tr>\n",
       "      <th>12</th>\n",
       "      <td>13</td>\n",
       "      <td>13</td>\n",
       "      <td>\"In Each of Our Hearts\"Transcription: \"Onoono ...</td>\n",
       "      <td>Katsuyuki Kodera</td>\n",
       "      <td>Tomo Ōkubo</td>\n",
       "      <td>Yōsuke Kuroda</td>\n",
       "      <td>2016-06-26</td>\n",
       "      <td>2018-08-04</td>\n",
       "    </tr>\n",
       "  </tbody>\n",
       "</table>\n",
       "</div>"
      ],
      "text/plain": [
       "    No.overall  No. inseason  \\\n",
       "0            1             1   \n",
       "1            2             2   \n",
       "2            3             3   \n",
       "3            4             4   \n",
       "4            5             5   \n",
       "5            6             6   \n",
       "6            7             7   \n",
       "7            8             8   \n",
       "8            9             9   \n",
       "9           10            10   \n",
       "10          11            11   \n",
       "11          12            12   \n",
       "12          13            13   \n",
       "\n",
       "                                                Title         Storyboarded by  \\\n",
       "0   \"Izuku Midoriya: Origin\"Transcription: \"Midori...          Kenji Nagasaki   \n",
       "1   \"What It Takes to Be a Hero\"Transcription: \"Hī...          Kenji Nagasaki   \n",
       "2   \"Roaring Muscles\"Transcription: \"Unare kin'nik...     Katsumi Terahigashi   \n",
       "3   \"Start Line\"Transcription: \"Sutaatorain\" (Japa...            Tōru Yoshida   \n",
       "4   \"What I Can Do For Now\"Transcription: \"Ima Bok...        Katsuyuki Kodera   \n",
       "5   \"Rage, You Damned Nerd\"Transcription: \"Takere ...               Kō Matsuo   \n",
       "6   \"Deku vs. Kacchan\"Transcription: \"Deku bāsasu ...         Takayuki Tanaka   \n",
       "7   \"Bakugo's Start Line\"Transcription: \"Sutāto Ra...         Satomi Nakamura   \n",
       "8   \"Yeah, Just Do Your Best, Ida!\"Transcription: ...        Katsuyuki Kodera   \n",
       "9   \"Encounter with the Unknown\"Transcription: \"Mi...         Shinji Ishihira   \n",
       "10  \"Game Over\"Transcription: \"Gēmu Ōbā\" (Japanese...         Takahiro Natori   \n",
       "11  \"All Might\"Transcription: \"Ōrumaito\" (Japanese...  Tōru Yoshida,Hakuyu Go   \n",
       "12  \"In Each of Our Hearts\"Transcription: \"Onoono ...        Katsuyuki Kodera   \n",
       "\n",
       "                  Directed by     Written by Original_Air_Date  \\\n",
       "0              Takurō Tsukada  Yōsuke Kuroda        2016-04-03   \n",
       "1            Daisuke Tsukushi  Yōsuke Kuroda        2016-04-10   \n",
       "2          Yoshifumi Sasahara  Yōsuke Kuroda        2016-04-17   \n",
       "3              Masato Miyoshi  Yōsuke Kuroda        2016-04-24   \n",
       "4            Satoshi Nakagawa  Yōsuke Kuroda        2016-05-01   \n",
       "5              Takurō Tsukada  Yōsuke Kuroda        2016-05-08   \n",
       "6               Geisei Morita  Yōsuke Kuroda        2016-05-15   \n",
       "7          Yoshifumi Sasahara  Yōsuke Kuroda        2016-05-22   \n",
       "8                 Masashi Abe  Yōsuke Kuroda        2016-05-29   \n",
       "9              Takurō Tsukada  Yōsuke Kuroda        2016-06-05   \n",
       "10            Takahiro Natori  Yōsuke Kuroda        2016-06-12   \n",
       "11  Tsuyoshi Tobita,Hakuyu Go  Yōsuke Kuroda        2016-06-19   \n",
       "12                 Tomo Ōkubo  Yōsuke Kuroda        2016-06-26   \n",
       "\n",
       "   English_Air_Date  \n",
       "0        2018-05-05  \n",
       "1        2018-05-12  \n",
       "2        2018-05-19  \n",
       "3        2018-06-02  \n",
       "4        2018-06-09  \n",
       "5        2018-06-16  \n",
       "6        2018-06-23  \n",
       "7        2018-06-30  \n",
       "8        2018-07-07  \n",
       "9        2018-07-14  \n",
       "10       2018-07-21  \n",
       "11       2018-07-28  \n",
       "12       2018-08-04  "
      ]
     },
     "execution_count": 4,
     "metadata": {},
     "output_type": "execute_result"
    }
   ],
   "source": [
    "season_one_anime"
   ]
  },
  {
   "cell_type": "code",
   "execution_count": 5,
   "id": "79effcdc",
   "metadata": {},
   "outputs": [],
   "source": [
    "dont_want = ['Parents', 'Suffering', 'Loss Of His Will', 'Niece', 'mentioned', 'Family', 'Notebooks', 'Character', 'quirk', 'Friend', 'Eriks', 'Werewolf', 'Prototype', 'Mother', 'Sibling', 'Sidekicks', 'l Jade', 'Nezuko']"
   ]
  },
  {
   "cell_type": "code",
   "execution_count": 6,
   "id": "88b46655",
   "metadata": {},
   "outputs": [],
   "source": [
    "AO3['ships'] = AO3['ships'].apply(ast.literal_eval)"
   ]
  },
  {
   "cell_type": "code",
   "execution_count": 7,
   "id": "a05b3877",
   "metadata": {
    "scrolled": true
   },
   "outputs": [],
   "source": [
    "Ships = AO3.explode('ships')['ships'].value_counts()"
   ]
  },
  {
   "cell_type": "code",
   "execution_count": 8,
   "id": "2ac48dcf",
   "metadata": {},
   "outputs": [],
   "source": [
    "characters['First'] = characters['1']\n",
    "characters = characters.set_index('First')"
   ]
  },
  {
   "cell_type": "code",
   "execution_count": 9,
   "id": "d4f92e9a",
   "metadata": {},
   "outputs": [],
   "source": [
    "def pullship(char1, char2):\n",
    "    name = []\n",
    "    name2 = []\n",
    "    try:\n",
    "        for i in characters.loc[char1]:\n",
    "            if type(i) != float:\n",
    "                name.append(i)\n",
    "    except:\n",
    "        name.append(char1)\n",
    "        \n",
    "    try:\n",
    "        for i in characters.loc[char2]:\n",
    "            if type(i) != float:\n",
    "                name2.append(i)\n",
    "    except:\n",
    "        name2.append(char2)\n",
    "    \n",
    "    ship = [name, name2]\n",
    "    shipname = char1 + ' & ' + char2\n",
    "    if char1 not in AO3.columns:\n",
    "        AO3[char1] = 0\n",
    "    if char2 not in AO3.columns:\n",
    "        AO3[char2] = 0\n",
    "    AO3[shipname] = 0\n",
    "    for index, row in AO3.iterrows():\n",
    "        for name in ship[0]:\n",
    "            if name in ''.join(row['ships']):\n",
    "                for name2 in ship[1]:\n",
    "                    if name2 in ''.join(row['ships']):\n",
    "                        if row[shipname] == 0:\n",
    "                            AO3.loc[index, shipname] = 1\n",
    "                        if row[char1] == 0 or row[char2] == 0:\n",
    "                            AO3.loc[index, char1] =+ 1\n",
    "                            AO3.loc[index, char2] =+ 1"
   ]
  },
  {
   "cell_type": "code",
   "execution_count": 10,
   "id": "453fd874",
   "metadata": {},
   "outputs": [],
   "source": [
    "pullship('Deku', 'Katsuki')\n",
    "pullship('Aizawa', 'Yamada Hizashi')\n",
    "pullship('Aizawa', 'Deku')\n",
    "pullship('Katsuki', 'Enjiro')\n",
    "pullship('Deku', 'Todoroki Sho')\n",
    "pullship('Dabi', 'Keigo')\n",
    "pullship('Deku', 'Uraraka')\n",
    "pullship('Deku', 'All Might')\n",
    "pullship('Deku', 'Class')\n",
    "pullship('Denki', 'Shinsou Hitoshi')\n",
    "pullship('Deku', 'Shinsou Hitoshi')\n",
    "pullship('Katsuki', 'Reader')\n",
    "pullship('Katsuki', 'Todoroki Sho')\n",
    "pullship('Deku', 'Yamada Hizashi')\n",
    "pullship('Mina', 'Eijirou')\n",
    "pullship('Jirou Kyouka', 'Denki')\n",
    "pullship('Deku', 'Shigaraki Tomura')\n",
    "pullship('Aizawa', 'Shinsou Hitoshi')\n",
    "pullship('Deku', 'Nedzu')\n",
    "pullship('Deku', 'Reader')"
   ]
  },
  {
   "cell_type": "code",
   "execution_count": 11,
   "id": "9f39522c",
   "metadata": {},
   "outputs": [],
   "source": [
    "AO3 = AO3.rename(columns = {'Aizawa & Shinsou Hitoshi': 'Aizawa & Shinsou', 'Shinsou Hitoshi': 'Shinsou',\n",
    "                            'Jirou Kyouka & Denki': 'Jirou & Denki','Jirou Kyouka': 'Jirou',\n",
    "                            'Mina & Eijirou': 'Mina & Kirashima', 'Eijirou': 'Kirashima',\n",
    "                            'Deku & Yamada Hizashi': 'Deku & Prez Mic', 'Yamada Hizashi': 'Prez Mic',\n",
    "                            'Katsuki & Todoroki Sho': 'Bakugo & Shoto',\n",
    "                            'Todoroki Sho': 'Shoto', 'Katsuki & Reader': 'Bakugo & Reader', \n",
    "                            'Katsuki': 'Bakugo', 'Deku & Shinsou Hitoshi': 'Deku & Shinsou',\n",
    "                            'Denki & Shinsou Hitoshi': 'Denki & Shinsou', 'Dabi & Keigo': 'Dabi & Hawks',\n",
    "                            'Keigo': 'Hawks', 'Deku & Todoroki Sho': 'Deku & Shoto',\n",
    "                            'Katsuki & Enjiro': 'Bakugo & Kirishima', 'Deku & Katsuki': 'Deku & Bakugo',\n",
    "                            'Aizawa & Yamada Hizashi': 'Aizawa & Prez Mic'})\n"
   ]
  },
  {
   "cell_type": "code",
   "execution_count": 12,
   "id": "a69d266a",
   "metadata": {},
   "outputs": [
    {
     "data": {
      "text/html": [
       "<div>\n",
       "<style scoped>\n",
       "    .dataframe tbody tr th:only-of-type {\n",
       "        vertical-align: middle;\n",
       "    }\n",
       "\n",
       "    .dataframe tbody tr th {\n",
       "        vertical-align: top;\n",
       "    }\n",
       "\n",
       "    .dataframe thead th {\n",
       "        text-align: right;\n",
       "    }\n",
       "</style>\n",
       "<table border=\"1\" class=\"dataframe\">\n",
       "  <thead>\n",
       "    <tr style=\"text-align: right;\">\n",
       "      <th></th>\n",
       "      <th>title</th>\n",
       "      <th>mixed fandom</th>\n",
       "      <th>ships</th>\n",
       "      <th>characters</th>\n",
       "      <th>hits</th>\n",
       "      <th>kudos</th>\n",
       "      <th>published</th>\n",
       "      <th>Deku</th>\n",
       "      <th>Bakugo</th>\n",
       "      <th>Deku &amp; Bakugo</th>\n",
       "      <th>...</th>\n",
       "      <th>Kirashima</th>\n",
       "      <th>Mina &amp; Kirashima</th>\n",
       "      <th>Jirou</th>\n",
       "      <th>Jirou &amp; Denki</th>\n",
       "      <th>Shigaraki Tomura</th>\n",
       "      <th>Deku &amp; Shigaraki Tomura</th>\n",
       "      <th>Aizawa &amp; Shinsou</th>\n",
       "      <th>Nedzu</th>\n",
       "      <th>Deku &amp; Nedzu</th>\n",
       "      <th>Deku &amp; Reader</th>\n",
       "    </tr>\n",
       "  </thead>\n",
       "  <tbody>\n",
       "    <tr>\n",
       "      <th>0</th>\n",
       "      <td>Purple poison flames meet Blue fire</td>\n",
       "      <td>['Fandoms:\\n鬼滅の刃 | Demon Slayer: Kimetsu no Ya...</td>\n",
       "      <td>[Dabi | Todoroki Touya &amp; Kochou Shinobu]</td>\n",
       "      <td>['Dabi | Todoroki Touya', 'Kochou Shinobu']</td>\n",
       "      <td>0</td>\n",
       "      <td>NaN</td>\n",
       "      <td>2023-04-02</td>\n",
       "      <td>0</td>\n",
       "      <td>0</td>\n",
       "      <td>0</td>\n",
       "      <td>...</td>\n",
       "      <td>0</td>\n",
       "      <td>0</td>\n",
       "      <td>0</td>\n",
       "      <td>0</td>\n",
       "      <td>0</td>\n",
       "      <td>0</td>\n",
       "      <td>0</td>\n",
       "      <td>0</td>\n",
       "      <td>0</td>\n",
       "      <td>0</td>\n",
       "    </tr>\n",
       "    <tr>\n",
       "      <th>1</th>\n",
       "      <td>Stuck With Babysitter Duty</td>\n",
       "      <td>['Fandoms:\\n僕のヒーローアカデミア | Boku no Hero Academi...</td>\n",
       "      <td>[Dazai Osamu/Nakahara Chuuya (Bungou Stray Dogs)]</td>\n",
       "      <td>['Midoriya Izuku', 'Dazai Osamu (Bungou Stray ...</td>\n",
       "      <td>0</td>\n",
       "      <td>NaN</td>\n",
       "      <td>2023-04-02</td>\n",
       "      <td>0</td>\n",
       "      <td>0</td>\n",
       "      <td>0</td>\n",
       "      <td>...</td>\n",
       "      <td>0</td>\n",
       "      <td>0</td>\n",
       "      <td>0</td>\n",
       "      <td>0</td>\n",
       "      <td>0</td>\n",
       "      <td>0</td>\n",
       "      <td>0</td>\n",
       "      <td>0</td>\n",
       "      <td>0</td>\n",
       "      <td>0</td>\n",
       "    </tr>\n",
       "    <tr>\n",
       "      <th>2</th>\n",
       "      <td>Power in UA!!!</td>\n",
       "      <td>['Fandoms:\\nChainsaw Man (Anime), 僕のヒーローアカデミア ...</td>\n",
       "      <td>[Bakugou Katsuki/Power, Power &amp; Class 1-A]</td>\n",
       "      <td>['Power (Chainsaw Man)', 'Ashido Mina', 'Iida ...</td>\n",
       "      <td>508</td>\n",
       "      <td>7.0</td>\n",
       "      <td>2023-04-02</td>\n",
       "      <td>0</td>\n",
       "      <td>0</td>\n",
       "      <td>0</td>\n",
       "      <td>...</td>\n",
       "      <td>0</td>\n",
       "      <td>0</td>\n",
       "      <td>0</td>\n",
       "      <td>0</td>\n",
       "      <td>0</td>\n",
       "      <td>0</td>\n",
       "      <td>0</td>\n",
       "      <td>0</td>\n",
       "      <td>0</td>\n",
       "      <td>0</td>\n",
       "    </tr>\n",
       "    <tr>\n",
       "      <th>3</th>\n",
       "      <td>Balance and Bondeds</td>\n",
       "      <td>['Fandoms:\\n僕のヒーローアカデミア | Boku no Hero Academi...</td>\n",
       "      <td>[Aizawa Shouta | Eraserhead/Yamada Hizashi | P...</td>\n",
       "      <td>['Midoriya Izuku', 'Midoriya Inko', 'Bakugou K...</td>\n",
       "      <td>11924</td>\n",
       "      <td>481.0</td>\n",
       "      <td>2023-04-02</td>\n",
       "      <td>1</td>\n",
       "      <td>0</td>\n",
       "      <td>0</td>\n",
       "      <td>...</td>\n",
       "      <td>0</td>\n",
       "      <td>0</td>\n",
       "      <td>0</td>\n",
       "      <td>0</td>\n",
       "      <td>0</td>\n",
       "      <td>0</td>\n",
       "      <td>1</td>\n",
       "      <td>0</td>\n",
       "      <td>0</td>\n",
       "      <td>0</td>\n",
       "    </tr>\n",
       "    <tr>\n",
       "      <th>4</th>\n",
       "      <td>Can't Hold Our Babies</td>\n",
       "      <td>['Fandoms:\\n僕のヒーローアカデミア | Boku no Hero Academi...</td>\n",
       "      <td>[Bakugou Katsuki/Midoriya Izuku/Uraraka Ochako...</td>\n",
       "      <td>['Bakugou Katsuki', 'Uraraka Ochako', 'Midoriy...</td>\n",
       "      <td>0</td>\n",
       "      <td>NaN</td>\n",
       "      <td>2023-04-02</td>\n",
       "      <td>1</td>\n",
       "      <td>1</td>\n",
       "      <td>1</td>\n",
       "      <td>...</td>\n",
       "      <td>0</td>\n",
       "      <td>0</td>\n",
       "      <td>0</td>\n",
       "      <td>0</td>\n",
       "      <td>0</td>\n",
       "      <td>0</td>\n",
       "      <td>0</td>\n",
       "      <td>0</td>\n",
       "      <td>0</td>\n",
       "      <td>0</td>\n",
       "    </tr>\n",
       "    <tr>\n",
       "      <th>...</th>\n",
       "      <td>...</td>\n",
       "      <td>...</td>\n",
       "      <td>...</td>\n",
       "      <td>...</td>\n",
       "      <td>...</td>\n",
       "      <td>...</td>\n",
       "      <td>...</td>\n",
       "      <td>...</td>\n",
       "      <td>...</td>\n",
       "      <td>...</td>\n",
       "      <td>...</td>\n",
       "      <td>...</td>\n",
       "      <td>...</td>\n",
       "      <td>...</td>\n",
       "      <td>...</td>\n",
       "      <td>...</td>\n",
       "      <td>...</td>\n",
       "      <td>...</td>\n",
       "      <td>...</td>\n",
       "      <td>...</td>\n",
       "      <td>...</td>\n",
       "    </tr>\n",
       "    <tr>\n",
       "      <th>1995</th>\n",
       "      <td>Seeing double</td>\n",
       "      <td>['Fandoms:\\n僕のヒーローアカデミア | Boku no Hero Academi...</td>\n",
       "      <td>[Midoriya Izuku/Usagiyama Rumi | Miruko, Midor...</td>\n",
       "      <td>['Midoriya Izuku', 'Class 1-A (My Hero Academi...</td>\n",
       "      <td>14960</td>\n",
       "      <td>507.0</td>\n",
       "      <td>2023-03-28</td>\n",
       "      <td>0</td>\n",
       "      <td>0</td>\n",
       "      <td>0</td>\n",
       "      <td>...</td>\n",
       "      <td>0</td>\n",
       "      <td>0</td>\n",
       "      <td>0</td>\n",
       "      <td>0</td>\n",
       "      <td>0</td>\n",
       "      <td>0</td>\n",
       "      <td>0</td>\n",
       "      <td>0</td>\n",
       "      <td>0</td>\n",
       "      <td>0</td>\n",
       "    </tr>\n",
       "    <tr>\n",
       "      <th>1996</th>\n",
       "      <td>My Idol</td>\n",
       "      <td>['Fandoms:\\n僕のヒーローアカデミア | Boku no Hero Academi...</td>\n",
       "      <td>[Bakugou Katsuki/Midoriya Izuku]</td>\n",
       "      <td>['Bakugou Katsuki', 'Midoriya Izuku']</td>\n",
       "      <td>3348</td>\n",
       "      <td>234.0</td>\n",
       "      <td>2023-03-28</td>\n",
       "      <td>1</td>\n",
       "      <td>1</td>\n",
       "      <td>1</td>\n",
       "      <td>...</td>\n",
       "      <td>0</td>\n",
       "      <td>0</td>\n",
       "      <td>0</td>\n",
       "      <td>0</td>\n",
       "      <td>0</td>\n",
       "      <td>0</td>\n",
       "      <td>0</td>\n",
       "      <td>0</td>\n",
       "      <td>0</td>\n",
       "      <td>0</td>\n",
       "    </tr>\n",
       "    <tr>\n",
       "      <th>1997</th>\n",
       "      <td>Woodland Paths</td>\n",
       "      <td>['Fandoms:\\n僕のヒーローアカデミア | Boku no Hero Academi...</td>\n",
       "      <td>[Midoriya Izuku &amp; Yagi Toshinori | All Might, ...</td>\n",
       "      <td>['Midoriya Izuku', 'Yagi Toshinori | All Might...</td>\n",
       "      <td>4604</td>\n",
       "      <td>244.0</td>\n",
       "      <td>2023-03-28</td>\n",
       "      <td>1</td>\n",
       "      <td>1</td>\n",
       "      <td>1</td>\n",
       "      <td>...</td>\n",
       "      <td>0</td>\n",
       "      <td>0</td>\n",
       "      <td>0</td>\n",
       "      <td>0</td>\n",
       "      <td>0</td>\n",
       "      <td>0</td>\n",
       "      <td>0</td>\n",
       "      <td>0</td>\n",
       "      <td>0</td>\n",
       "      <td>0</td>\n",
       "    </tr>\n",
       "    <tr>\n",
       "      <th>1998</th>\n",
       "      <td>Boku No Hero Academia: Ones Way</td>\n",
       "      <td>['Fandoms:\\n僕のヒーローアカデミア | Boku no Hero Academi...</td>\n",
       "      <td>[]</td>\n",
       "      <td>['Mia Ikati', 'Rue Achlys', 'Ryuuji Takao', 'I...</td>\n",
       "      <td>44</td>\n",
       "      <td>NaN</td>\n",
       "      <td>2023-03-28</td>\n",
       "      <td>0</td>\n",
       "      <td>0</td>\n",
       "      <td>0</td>\n",
       "      <td>...</td>\n",
       "      <td>0</td>\n",
       "      <td>0</td>\n",
       "      <td>0</td>\n",
       "      <td>0</td>\n",
       "      <td>0</td>\n",
       "      <td>0</td>\n",
       "      <td>0</td>\n",
       "      <td>0</td>\n",
       "      <td>0</td>\n",
       "      <td>0</td>\n",
       "    </tr>\n",
       "    <tr>\n",
       "      <th>1999</th>\n",
       "      <td>Up the Anti: My Hero Academia New Generation</td>\n",
       "      <td>['Fandoms:\\n僕のヒーローアカデミア | Boku no Hero Academi...</td>\n",
       "      <td>[Midoriya Izuku/Sero Hanta, Bakugou Katsuki/Ki...</td>\n",
       "      <td>['Midoriya Izuku', 'Sero Hanta', 'Bakugou Kats...</td>\n",
       "      <td>28</td>\n",
       "      <td>NaN</td>\n",
       "      <td>2023-03-28</td>\n",
       "      <td>1</td>\n",
       "      <td>1</td>\n",
       "      <td>1</td>\n",
       "      <td>...</td>\n",
       "      <td>0</td>\n",
       "      <td>0</td>\n",
       "      <td>0</td>\n",
       "      <td>0</td>\n",
       "      <td>0</td>\n",
       "      <td>0</td>\n",
       "      <td>0</td>\n",
       "      <td>0</td>\n",
       "      <td>0</td>\n",
       "      <td>0</td>\n",
       "    </tr>\n",
       "  </tbody>\n",
       "</table>\n",
       "<p>2000 rows × 46 columns</p>\n",
       "</div>"
      ],
      "text/plain": [
       "                                             title  \\\n",
       "0              Purple poison flames meet Blue fire   \n",
       "1                       Stuck With Babysitter Duty   \n",
       "2                                   Power in UA!!!   \n",
       "3                              Balance and Bondeds   \n",
       "4                            Can't Hold Our Babies   \n",
       "...                                            ...   \n",
       "1995                                 Seeing double   \n",
       "1996                                       My Idol   \n",
       "1997                                Woodland Paths   \n",
       "1998               Boku No Hero Academia: Ones Way   \n",
       "1999  Up the Anti: My Hero Academia New Generation   \n",
       "\n",
       "                                           mixed fandom  \\\n",
       "0     ['Fandoms:\\n鬼滅の刃 | Demon Slayer: Kimetsu no Ya...   \n",
       "1     ['Fandoms:\\n僕のヒーローアカデミア | Boku no Hero Academi...   \n",
       "2     ['Fandoms:\\nChainsaw Man (Anime), 僕のヒーローアカデミア ...   \n",
       "3     ['Fandoms:\\n僕のヒーローアカデミア | Boku no Hero Academi...   \n",
       "4     ['Fandoms:\\n僕のヒーローアカデミア | Boku no Hero Academi...   \n",
       "...                                                 ...   \n",
       "1995  ['Fandoms:\\n僕のヒーローアカデミア | Boku no Hero Academi...   \n",
       "1996  ['Fandoms:\\n僕のヒーローアカデミア | Boku no Hero Academi...   \n",
       "1997  ['Fandoms:\\n僕のヒーローアカデミア | Boku no Hero Academi...   \n",
       "1998  ['Fandoms:\\n僕のヒーローアカデミア | Boku no Hero Academi...   \n",
       "1999  ['Fandoms:\\n僕のヒーローアカデミア | Boku no Hero Academi...   \n",
       "\n",
       "                                                  ships  \\\n",
       "0              [Dabi | Todoroki Touya & Kochou Shinobu]   \n",
       "1     [Dazai Osamu/Nakahara Chuuya (Bungou Stray Dogs)]   \n",
       "2            [Bakugou Katsuki/Power, Power & Class 1-A]   \n",
       "3     [Aizawa Shouta | Eraserhead/Yamada Hizashi | P...   \n",
       "4     [Bakugou Katsuki/Midoriya Izuku/Uraraka Ochako...   \n",
       "...                                                 ...   \n",
       "1995  [Midoriya Izuku/Usagiyama Rumi | Miruko, Midor...   \n",
       "1996                   [Bakugou Katsuki/Midoriya Izuku]   \n",
       "1997  [Midoriya Izuku & Yagi Toshinori | All Might, ...   \n",
       "1998                                                 []   \n",
       "1999  [Midoriya Izuku/Sero Hanta, Bakugou Katsuki/Ki...   \n",
       "\n",
       "                                             characters   hits  kudos  \\\n",
       "0           ['Dabi | Todoroki Touya', 'Kochou Shinobu']      0    NaN   \n",
       "1     ['Midoriya Izuku', 'Dazai Osamu (Bungou Stray ...      0    NaN   \n",
       "2     ['Power (Chainsaw Man)', 'Ashido Mina', 'Iida ...    508    7.0   \n",
       "3     ['Midoriya Izuku', 'Midoriya Inko', 'Bakugou K...  11924  481.0   \n",
       "4     ['Bakugou Katsuki', 'Uraraka Ochako', 'Midoriy...      0    NaN   \n",
       "...                                                 ...    ...    ...   \n",
       "1995  ['Midoriya Izuku', 'Class 1-A (My Hero Academi...  14960  507.0   \n",
       "1996              ['Bakugou Katsuki', 'Midoriya Izuku']   3348  234.0   \n",
       "1997  ['Midoriya Izuku', 'Yagi Toshinori | All Might...   4604  244.0   \n",
       "1998  ['Mia Ikati', 'Rue Achlys', 'Ryuuji Takao', 'I...     44    NaN   \n",
       "1999  ['Midoriya Izuku', 'Sero Hanta', 'Bakugou Kats...     28    NaN   \n",
       "\n",
       "      published  Deku  Bakugo  Deku & Bakugo  ...  Kirashima  \\\n",
       "0    2023-04-02     0       0              0  ...          0   \n",
       "1    2023-04-02     0       0              0  ...          0   \n",
       "2    2023-04-02     0       0              0  ...          0   \n",
       "3    2023-04-02     1       0              0  ...          0   \n",
       "4    2023-04-02     1       1              1  ...          0   \n",
       "...         ...   ...     ...            ...  ...        ...   \n",
       "1995 2023-03-28     0       0              0  ...          0   \n",
       "1996 2023-03-28     1       1              1  ...          0   \n",
       "1997 2023-03-28     1       1              1  ...          0   \n",
       "1998 2023-03-28     0       0              0  ...          0   \n",
       "1999 2023-03-28     1       1              1  ...          0   \n",
       "\n",
       "      Mina & Kirashima  Jirou  Jirou & Denki  Shigaraki Tomura  \\\n",
       "0                    0      0              0                 0   \n",
       "1                    0      0              0                 0   \n",
       "2                    0      0              0                 0   \n",
       "3                    0      0              0                 0   \n",
       "4                    0      0              0                 0   \n",
       "...                ...    ...            ...               ...   \n",
       "1995                 0      0              0                 0   \n",
       "1996                 0      0              0                 0   \n",
       "1997                 0      0              0                 0   \n",
       "1998                 0      0              0                 0   \n",
       "1999                 0      0              0                 0   \n",
       "\n",
       "      Deku & Shigaraki Tomura  Aizawa & Shinsou  Nedzu  Deku & Nedzu  \\\n",
       "0                           0                 0      0             0   \n",
       "1                           0                 0      0             0   \n",
       "2                           0                 0      0             0   \n",
       "3                           0                 1      0             0   \n",
       "4                           0                 0      0             0   \n",
       "...                       ...               ...    ...           ...   \n",
       "1995                        0                 0      0             0   \n",
       "1996                        0                 0      0             0   \n",
       "1997                        0                 0      0             0   \n",
       "1998                        0                 0      0             0   \n",
       "1999                        0                 0      0             0   \n",
       "\n",
       "      Deku & Reader  \n",
       "0                 0  \n",
       "1                 0  \n",
       "2                 0  \n",
       "3                 0  \n",
       "4                 0  \n",
       "...             ...  \n",
       "1995              0  \n",
       "1996              0  \n",
       "1997              0  \n",
       "1998              0  \n",
       "1999              0  \n",
       "\n",
       "[2000 rows x 46 columns]"
      ]
     },
     "execution_count": 12,
     "metadata": {},
     "output_type": "execute_result"
    }
   ],
   "source": [
    "AO3"
   ]
  },
  {
   "cell_type": "code",
   "execution_count": 13,
   "id": "4f7a51a4",
   "metadata": {},
   "outputs": [
    {
     "name": "stdout",
     "output_type": "stream",
     "text": [
      "title\n"
     ]
    },
    {
     "data": {
      "text/plain": [
       "Wings                                           3\n",
       "On Why Izuku did not meet the Iidas pre-UA      2\n",
       "Bittersweet                                     2\n",
       "Infatuation                                     2\n",
       "Fear                                            2\n",
       "                                               ..\n",
       "Nine lives (and counting)                       1\n",
       "Of Dreams and Dragons                           1\n",
       "Two Peas                                        1\n",
       "Quantity of Quirks                              1\n",
       "Up the Anti: My Hero Academia New Generation    1\n",
       "Name: title, Length: 1974, dtype: int64"
      ]
     },
     "metadata": {},
     "output_type": "display_data"
    },
    {
     "name": "stdout",
     "output_type": "stream",
     "text": [
      "mixed fandom\n"
     ]
    },
    {
     "data": {
      "text/plain": [
       "['Fandoms:\\n僕のヒーローアカデミア | Boku no Hero Academia | My Hero Academia (Anime & Manga)']                                                                                                                                                               1089\n",
       "['Fandoms:\\n僕のヒーローアカデミア | Boku no Hero Academia | My Hero Academia']                                                                                                                                                                                611\n",
       "['Fandoms:\\n文豪ストレイドッグス | Bungou Stray Dogs, 僕のヒーローアカデミア | Boku no Hero Academia | My Hero Academia (Anime & Manga)']                                                                                                                                  9\n",
       "['Fandoms:\\n僕のヒーローアカデミア | Boku no Hero Academia | My Hero Academia, Naruto']                                                                                                                                                                          5\n",
       "['Fandoms:\\n僕のヒーローアカデミア | Boku no Hero Academia | My Hero Academia (Anime & Manga), Naruto']                                                                                                                                                          3\n",
       "                                                                                                                                                                                                                                                   ... \n",
       "['Fandoms:\\n僕のヒーローアカデミア | Boku no Hero Academia | My Hero Academia (Anime & Manga), Percy Jackson and the Olympians - Rick Riordan']                                                                                                                  1\n",
       "['Fandoms:\\n僕のヒーローアカデミア | Boku no Hero Academia | My Hero Academia (Anime & Manga), Chainsaw Man (Manga)']                                                                                                                                            1\n",
       "['Fandoms:\\n僕のヒーローアカデミア | Boku no Hero Academia | My Hero Academia, Critical Role (Web Series)']                                                                                                                                                      1\n",
       "['Fandoms:\\n僕のヒーローアカデミア | Boku no Hero Academia | My Hero Academia, Naruto, Bleach (Anime & Manga), 鬼滅の刃 | Demon Slayer: Kimetsu no Yaiba (Anime), 鬼滅の刃 | Demon Slayer: Kimetsu no Yaiba (Manga), Dragon Ball, Various Other Fandoms - Fandom']       1\n",
       "['Fandoms:\\n僕のヒーローアカデミア | Boku no Hero Academia | My Hero Academia (Anime & Manga), 呪術廻戦 | Jujutsu Kaisen (Anime), 呪術廻戦 | Jujutsu Kaisen (Manga)']                                                                                                    1\n",
       "Name: mixed fandom, Length: 262, dtype: int64"
      ]
     },
     "metadata": {},
     "output_type": "display_data"
    },
    {
     "name": "stdout",
     "output_type": "stream",
     "text": [
      "ships\n"
     ]
    },
    {
     "data": {
      "text/plain": [
       "[]                                                                                                                                                                                                                                                                                                                                                                              219\n",
       "[Bakugou Katsuki/Midoriya Izuku]                                                                                                                                                                                                                                                                                                                                                108\n",
       "[Dabi | Todoroki Touya/Takami Keigo | Hawks]                                                                                                                                                                                                                                                                                                                                     30\n",
       "[Bakugou Katsuki/Kirishima Eijirou]                                                                                                                                                                                                                                                                                                                                              27\n",
       "[Bakugou Katsuki/Midoriya Izuku, Bakugou Katsuki & Midoriya Izuku]                                                                                                                                                                                                                                                                                                               19\n",
       "                                                                                                                                                                                                                                                                                                                                                                               ... \n",
       "[Aizawa Shouta | Eraserhead & Midoriya Izuku, Aizawa Shouta | Eraserhead & Tsukauchi Naomasa, Bakugou Katsuki & Midoriya Izuku, Bakugou Katsuki & Bakugou Masaru & Bakugou Mitsuki, Bakugou Masaru/Bakugou Mitsuki, Bakugou Mitsuki & Midoriya Izuku, Midoriya Izuku/Shinsou Hitoshi, Shigaraki Tomura | Shimura Tenko/Todoroki Shouto, Other Relationship Tags to Be Added]      1\n",
       "[Bakugou Katsuki/Midoriya Izuku, Midoriya Izuku & Original Character(s), Bakugou Katsuki & Original Character(s), (theyre his kids)]                                                                                                                                                                                                                                              1\n",
       "[Iida Tenya & Midoriya Izuku, Iida Tenya & Midoriya Izuku & Todoroki Shouto & Uraraka Ochako, (mentioned) - Relationship]                                                                                                                                                                                                                                                         1\n",
       "[Midoriya Izuku & Yagi Toshinori | All Might, Midoriya Inko & Midoriya Izuku]                                                                                                                                                                                                                                                                                                     1\n",
       "[Midoriya Izuku/Sero Hanta, Bakugou Katsuki/Kirishima Eijirou, Iida Tenya/Uraraka Ochako, Todoroki Shouto/Yaoyorozu Momo]                                                                                                                                                                                                                                                         1\n",
       "Name: ships, Length: 1374, dtype: int64"
      ]
     },
     "metadata": {},
     "output_type": "display_data"
    },
    {
     "name": "stdout",
     "output_type": "stream",
     "text": [
      "characters\n"
     ]
    },
    {
     "data": {
      "text/plain": [
       "[]                                                                                                                                                                                                                                                                                                                                                                                         65\n",
       "['Bakugou Katsuki', 'Midoriya Izuku']                                                                                                                                                                                                                                                                                                                                                      45\n",
       "['Bakugou Katsuki', 'Kirishima Eijirou']                                                                                                                                                                                                                                                                                                                                                   17\n",
       "['Midoriya Izuku', 'Bakugou Katsuki']                                                                                                                                                                                                                                                                                                                                                      12\n",
       "['Dabi | Todoroki Touya', 'Takami Keigo | Hawks']                                                                                                                                                                                                                                                                                                                                          10\n",
       "                                                                                                                                                                                                                                                                                                                                                                                           ..\n",
       "['Ashido Mina', 'Asui Tsuyu', 'Midoriya Izuku', 'Iida Tenya', 'Aoyama Yuuga', 'Hagakure Tooru', 'Kirishima Eijirou', 'Bakugou Katsuki']                                                                                                                                                                                                                                                     1\n",
       "['Midoriya Izuku', 'Class 1-A (My Hero Academia)', 'Class 1-B (My Hero Academia)']                                                                                                                                                                                                                                                                                                          1\n",
       "['Any', 'Arya Stark', 'Sansa Stark', 'Reader', 'You', 'Iida Tenya', 'Iida Tensei | Ingenium', 'Loona (Helluva Boss)', 'Blitzo (Helluva Boss)', 'Angella (She-Ra)', 'Glimmer (She-Ra)', 'Caitlyn (League of Legends)', 'Cassandra Kiramman', 'Mel Medarda', 'Jinx (League of Legends)', 'Vi (League of Legends)', 'Azula (Avatar)', 'Zuko (Avatar)', 'Matoi Ryuuko', 'Kiryuuin Satsuki']     1\n",
       "['Uraraka Ochako', 'Midoriya Izuku', 'Iida Tenya', 'Todoroki Shouto', 'Yaoyorozu Momo', 'Bakugou Katsuki', 'Ben Tennyson', 'Ruby Rose (RWBY)', 'Original Characters', 'Ship (Ben 10 Series)', 'Class 1-A (My Hero Academia)', 'Yagi Toshinori | All Might', 'Kumagawa Misogi', 'Saki Sukinasaki']                                                                                           1\n",
       "['Midoriya Izuku', 'Sero Hanta', 'Bakugou Katsuki', 'Kirishima Eijirou', 'Iida Tenya', 'Uraraka Ochako', 'Jirou Kyouka', 'Shinsou Hitoshi', 'Todoroki Shouto', 'Yaoyorozu Momo']                                                                                                                                                                                                            1\n",
       "Name: characters, Length: 1766, dtype: int64"
      ]
     },
     "metadata": {},
     "output_type": "display_data"
    },
    {
     "name": "stdout",
     "output_type": "stream",
     "text": [
      "hits\n"
     ]
    },
    {
     "data": {
      "text/plain": [
       "0       11\n",
       "14       9\n",
       "16       9\n",
       "10       9\n",
       "44       8\n",
       "        ..\n",
       "3283     1\n",
       "984      1\n",
       "8787     1\n",
       "3216     1\n",
       "4604     1\n",
       "Name: hits, Length: 1378, dtype: int64"
      ]
     },
     "metadata": {},
     "output_type": "display_data"
    },
    {
     "name": "stdout",
     "output_type": "stream",
     "text": [
      "kudos\n"
     ]
    },
    {
     "data": {
      "text/plain": [
       "1.0       76\n",
       "2.0       64\n",
       "3.0       49\n",
       "7.0       45\n",
       "6.0       43\n",
       "          ..\n",
       "3679.0     1\n",
       "1541.0     1\n",
       "334.0      1\n",
       "1008.0     1\n",
       "507.0      1\n",
       "Name: kudos, Length: 547, dtype: int64"
      ]
     },
     "metadata": {},
     "output_type": "display_data"
    },
    {
     "name": "stdout",
     "output_type": "stream",
     "text": [
      "published\n"
     ]
    },
    {
     "data": {
      "text/plain": [
       "2023-04-01    470\n",
       "2023-03-31    391\n",
       "2023-03-30    334\n",
       "2023-03-29    316\n",
       "2023-04-02    264\n",
       "2023-03-28    223\n",
       "2023-04-03      2\n",
       "Name: published, dtype: int64"
      ]
     },
     "metadata": {},
     "output_type": "display_data"
    },
    {
     "name": "stdout",
     "output_type": "stream",
     "text": [
      "Deku\n"
     ]
    },
    {
     "data": {
      "text/plain": [
       "0    1047\n",
       "1     953\n",
       "Name: Deku, dtype: int64"
      ]
     },
     "metadata": {},
     "output_type": "display_data"
    },
    {
     "name": "stdout",
     "output_type": "stream",
     "text": [
      "Bakugo\n"
     ]
    },
    {
     "data": {
      "text/plain": [
       "0    1314\n",
       "1     686\n",
       "Name: Bakugo, dtype: int64"
      ]
     },
     "metadata": {},
     "output_type": "display_data"
    },
    {
     "name": "stdout",
     "output_type": "stream",
     "text": [
      "Deku & Bakugo\n"
     ]
    },
    {
     "data": {
      "text/plain": [
       "0    1399\n",
       "1     601\n",
       "Name: Deku & Bakugo, dtype: int64"
      ]
     },
     "metadata": {},
     "output_type": "display_data"
    },
    {
     "name": "stdout",
     "output_type": "stream",
     "text": [
      "Aizawa\n"
     ]
    },
    {
     "data": {
      "text/plain": [
       "0    1565\n",
       "1     435\n",
       "Name: Aizawa, dtype: int64"
      ]
     },
     "metadata": {},
     "output_type": "display_data"
    },
    {
     "name": "stdout",
     "output_type": "stream",
     "text": [
      "Prez Mic\n"
     ]
    },
    {
     "data": {
      "text/plain": [
       "0    1681\n",
       "1     319\n",
       "Name: Prez Mic, dtype: int64"
      ]
     },
     "metadata": {},
     "output_type": "display_data"
    },
    {
     "name": "stdout",
     "output_type": "stream",
     "text": [
      "Aizawa & Prez Mic\n"
     ]
    },
    {
     "data": {
      "text/plain": [
       "0    1684\n",
       "1     316\n",
       "Name: Aizawa & Prez Mic, dtype: int64"
      ]
     },
     "metadata": {},
     "output_type": "display_data"
    },
    {
     "name": "stdout",
     "output_type": "stream",
     "text": [
      "Aizawa & Deku\n"
     ]
    },
    {
     "data": {
      "text/plain": [
       "0    1678\n",
       "1     322\n",
       "Name: Aizawa & Deku, dtype: int64"
      ]
     },
     "metadata": {},
     "output_type": "display_data"
    },
    {
     "name": "stdout",
     "output_type": "stream",
     "text": [
      "Enjiro\n"
     ]
    },
    {
     "data": {
      "text/plain": [
       "0    2000\n",
       "Name: Enjiro, dtype: int64"
      ]
     },
     "metadata": {},
     "output_type": "display_data"
    },
    {
     "name": "stdout",
     "output_type": "stream",
     "text": [
      "Bakugo & Kirishima\n"
     ]
    },
    {
     "data": {
      "text/plain": [
       "0    2000\n",
       "Name: Bakugo & Kirishima, dtype: int64"
      ]
     },
     "metadata": {},
     "output_type": "display_data"
    },
    {
     "name": "stdout",
     "output_type": "stream",
     "text": [
      "Shoto\n"
     ]
    },
    {
     "data": {
      "text/plain": [
       "0    1634\n",
       "1     366\n",
       "Name: Shoto, dtype: int64"
      ]
     },
     "metadata": {},
     "output_type": "display_data"
    },
    {
     "name": "stdout",
     "output_type": "stream",
     "text": [
      "Deku & Shoto\n"
     ]
    },
    {
     "data": {
      "text/plain": [
       "0    1679\n",
       "1     321\n",
       "Name: Deku & Shoto, dtype: int64"
      ]
     },
     "metadata": {},
     "output_type": "display_data"
    },
    {
     "name": "stdout",
     "output_type": "stream",
     "text": [
      "Dabi\n"
     ]
    },
    {
     "data": {
      "text/plain": [
       "0    1851\n",
       "1     149\n",
       "Name: Dabi, dtype: int64"
      ]
     },
     "metadata": {},
     "output_type": "display_data"
    },
    {
     "name": "stdout",
     "output_type": "stream",
     "text": [
      "Hawks\n"
     ]
    },
    {
     "data": {
      "text/plain": [
       "0    1851\n",
       "1     149\n",
       "Name: Hawks, dtype: int64"
      ]
     },
     "metadata": {},
     "output_type": "display_data"
    },
    {
     "name": "stdout",
     "output_type": "stream",
     "text": [
      "Dabi & Hawks\n"
     ]
    },
    {
     "data": {
      "text/plain": [
       "0    1851\n",
       "1     149\n",
       "Name: Dabi & Hawks, dtype: int64"
      ]
     },
     "metadata": {},
     "output_type": "display_data"
    },
    {
     "name": "stdout",
     "output_type": "stream",
     "text": [
      "Uraraka\n"
     ]
    },
    {
     "data": {
      "text/plain": [
       "0    1764\n",
       "1     236\n",
       "Name: Uraraka, dtype: int64"
      ]
     },
     "metadata": {},
     "output_type": "display_data"
    },
    {
     "name": "stdout",
     "output_type": "stream",
     "text": [
      "Deku & Uraraka\n"
     ]
    },
    {
     "data": {
      "text/plain": [
       "0    1764\n",
       "1     236\n",
       "Name: Deku & Uraraka, dtype: int64"
      ]
     },
     "metadata": {},
     "output_type": "display_data"
    },
    {
     "name": "stdout",
     "output_type": "stream",
     "text": [
      "All Might\n"
     ]
    },
    {
     "data": {
      "text/plain": [
       "0    1850\n",
       "1     150\n",
       "Name: All Might, dtype: int64"
      ]
     },
     "metadata": {},
     "output_type": "display_data"
    },
    {
     "name": "stdout",
     "output_type": "stream",
     "text": [
      "Deku & All Might\n"
     ]
    },
    {
     "data": {
      "text/plain": [
       "0    1850\n",
       "1     150\n",
       "Name: Deku & All Might, dtype: int64"
      ]
     },
     "metadata": {},
     "output_type": "display_data"
    },
    {
     "name": "stdout",
     "output_type": "stream",
     "text": [
      "Class\n"
     ]
    },
    {
     "data": {
      "text/plain": [
       "0    1866\n",
       "1     134\n",
       "Name: Class, dtype: int64"
      ]
     },
     "metadata": {},
     "output_type": "display_data"
    },
    {
     "name": "stdout",
     "output_type": "stream",
     "text": [
      "Deku & Class\n"
     ]
    },
    {
     "data": {
      "text/plain": [
       "0    1866\n",
       "1     134\n",
       "Name: Deku & Class, dtype: int64"
      ]
     },
     "metadata": {},
     "output_type": "display_data"
    },
    {
     "name": "stdout",
     "output_type": "stream",
     "text": [
      "Denki\n"
     ]
    },
    {
     "data": {
      "text/plain": [
       "0    1829\n",
       "1     171\n",
       "Name: Denki, dtype: int64"
      ]
     },
     "metadata": {},
     "output_type": "display_data"
    },
    {
     "name": "stdout",
     "output_type": "stream",
     "text": [
      "Shinsou\n"
     ]
    },
    {
     "data": {
      "text/plain": [
       "0    1738\n",
       "1     262\n",
       "Name: Shinsou, dtype: int64"
      ]
     },
     "metadata": {},
     "output_type": "display_data"
    },
    {
     "name": "stdout",
     "output_type": "stream",
     "text": [
      "Denki & Shinsou\n"
     ]
    },
    {
     "data": {
      "text/plain": [
       "0    1883\n",
       "1     117\n",
       "Name: Denki & Shinsou, dtype: int64"
      ]
     },
     "metadata": {},
     "output_type": "display_data"
    },
    {
     "name": "stdout",
     "output_type": "stream",
     "text": [
      "Deku & Shinsou\n"
     ]
    },
    {
     "data": {
      "text/plain": [
       "0    1792\n",
       "1     208\n",
       "Name: Deku & Shinsou, dtype: int64"
      ]
     },
     "metadata": {},
     "output_type": "display_data"
    },
    {
     "name": "stdout",
     "output_type": "stream",
     "text": [
      "Reader\n"
     ]
    },
    {
     "data": {
      "text/plain": [
       "0    1911\n",
       "1      89\n",
       "Name: Reader, dtype: int64"
      ]
     },
     "metadata": {},
     "output_type": "display_data"
    },
    {
     "name": "stdout",
     "output_type": "stream",
     "text": [
      "Bakugo & Reader\n"
     ]
    },
    {
     "data": {
      "text/plain": [
       "0    1925\n",
       "1      75\n",
       "Name: Bakugo & Reader, dtype: int64"
      ]
     },
     "metadata": {},
     "output_type": "display_data"
    },
    {
     "name": "stdout",
     "output_type": "stream",
     "text": [
      "Bakugo & Shoto\n"
     ]
    },
    {
     "data": {
      "text/plain": [
       "0    1715\n",
       "1     285\n",
       "Name: Bakugo & Shoto, dtype: int64"
      ]
     },
     "metadata": {},
     "output_type": "display_data"
    },
    {
     "name": "stdout",
     "output_type": "stream",
     "text": [
      "Deku & Prez Mic\n"
     ]
    },
    {
     "data": {
      "text/plain": [
       "0    1788\n",
       "1     212\n",
       "Name: Deku & Prez Mic, dtype: int64"
      ]
     },
     "metadata": {},
     "output_type": "display_data"
    },
    {
     "name": "stdout",
     "output_type": "stream",
     "text": [
      "Mina\n"
     ]
    },
    {
     "data": {
      "text/plain": [
       "0    1874\n",
       "1     126\n",
       "Name: Mina, dtype: int64"
      ]
     },
     "metadata": {},
     "output_type": "display_data"
    },
    {
     "name": "stdout",
     "output_type": "stream",
     "text": [
      "Kirashima\n"
     ]
    },
    {
     "data": {
      "text/plain": [
       "0    1874\n",
       "1     126\n",
       "Name: Kirashima, dtype: int64"
      ]
     },
     "metadata": {},
     "output_type": "display_data"
    },
    {
     "name": "stdout",
     "output_type": "stream",
     "text": [
      "Mina & Kirashima\n"
     ]
    },
    {
     "data": {
      "text/plain": [
       "0    1874\n",
       "1     126\n",
       "Name: Mina & Kirashima, dtype: int64"
      ]
     },
     "metadata": {},
     "output_type": "display_data"
    },
    {
     "name": "stdout",
     "output_type": "stream",
     "text": [
      "Jirou\n"
     ]
    },
    {
     "data": {
      "text/plain": [
       "0    1911\n",
       "1      89\n",
       "Name: Jirou, dtype: int64"
      ]
     },
     "metadata": {},
     "output_type": "display_data"
    },
    {
     "name": "stdout",
     "output_type": "stream",
     "text": [
      "Jirou & Denki\n"
     ]
    },
    {
     "data": {
      "text/plain": [
       "0    1911\n",
       "1      89\n",
       "Name: Jirou & Denki, dtype: int64"
      ]
     },
     "metadata": {},
     "output_type": "display_data"
    },
    {
     "name": "stdout",
     "output_type": "stream",
     "text": [
      "Shigaraki Tomura\n"
     ]
    },
    {
     "data": {
      "text/plain": [
       "0    1908\n",
       "1      92\n",
       "Name: Shigaraki Tomura, dtype: int64"
      ]
     },
     "metadata": {},
     "output_type": "display_data"
    },
    {
     "name": "stdout",
     "output_type": "stream",
     "text": [
      "Deku & Shigaraki Tomura\n"
     ]
    },
    {
     "data": {
      "text/plain": [
       "0    1908\n",
       "1      92\n",
       "Name: Deku & Shigaraki Tomura, dtype: int64"
      ]
     },
     "metadata": {},
     "output_type": "display_data"
    },
    {
     "name": "stdout",
     "output_type": "stream",
     "text": [
      "Aizawa & Shinsou\n"
     ]
    },
    {
     "data": {
      "text/plain": [
       "0    1832\n",
       "1     168\n",
       "Name: Aizawa & Shinsou, dtype: int64"
      ]
     },
     "metadata": {},
     "output_type": "display_data"
    },
    {
     "name": "stdout",
     "output_type": "stream",
     "text": [
      "Nedzu\n"
     ]
    },
    {
     "data": {
      "text/plain": [
       "0    1953\n",
       "1      47\n",
       "Name: Nedzu, dtype: int64"
      ]
     },
     "metadata": {},
     "output_type": "display_data"
    },
    {
     "name": "stdout",
     "output_type": "stream",
     "text": [
      "Deku & Nedzu\n"
     ]
    },
    {
     "data": {
      "text/plain": [
       "0    1953\n",
       "1      47\n",
       "Name: Deku & Nedzu, dtype: int64"
      ]
     },
     "metadata": {},
     "output_type": "display_data"
    },
    {
     "name": "stdout",
     "output_type": "stream",
     "text": [
      "Deku & Reader\n"
     ]
    },
    {
     "data": {
      "text/plain": [
       "0    1953\n",
       "1      47\n",
       "Name: Deku & Reader, dtype: int64"
      ]
     },
     "metadata": {},
     "output_type": "display_data"
    }
   ],
   "source": [
    "for col in AO3.columns:\n",
    "    print(col)\n",
    "    display(AO3[col].value_counts())"
   ]
  },
  {
   "cell_type": "code",
   "execution_count": 14,
   "id": "f66f8d19",
   "metadata": {},
   "outputs": [
    {
     "data": {
      "text/plain": [
       "<AxesSubplot:>"
      ]
     },
     "execution_count": 14,
     "metadata": {},
     "output_type": "execute_result"
    },
    {
     "data": {
      "image/png": "[encoded data removed]",
      "text/plain": [
       "<Figure size 1000x600 with 1 Axes>"
      ]
     },
     "metadata": {},
     "output_type": "display_data"
    }
   ],
   "source": [
    "AO3['published'].hist()\n"
   ]
  },
  {
   "cell_type": "code",
   "execution_count": 15,
   "id": "33e7e52b",
   "metadata": {
    "scrolled": false
   },
   "outputs": [
    {
     "data": {
      "image/png": "[encoded data removed]",
      "text/plain": [
       "<Figure size 1000x600 with 1 Axes>"
      ]
     },
     "metadata": {},
     "output_type": "display_data"
    }
   ],
   "source": [
    "plt.hist(x = 'Viewership rating', data = season_six_anime)\n",
    "plt.title('Season 6 Viewership Ratings')\n",
    "plt.show()"
   ]
  },
  {
   "cell_type": "code",
   "execution_count": 16,
   "id": "ab46f1f3",
   "metadata": {},
   "outputs": [],
   "source": [
    "season_six_anime['English_Air_Date'] = pd.to_datetime(season_six_anime['English_Air_Date'])"
   ]
  },
  {
   "cell_type": "code",
   "execution_count": 17,
   "id": "babda22c",
   "metadata": {},
   "outputs": [
    {
     "data": {
      "text/html": [
       "<div>\n",
       "<style scoped>\n",
       "    .dataframe tbody tr th:only-of-type {\n",
       "        vertical-align: middle;\n",
       "    }\n",
       "\n",
       "    .dataframe tbody tr th {\n",
       "        vertical-align: top;\n",
       "    }\n",
       "\n",
       "    .dataframe thead th {\n",
       "        text-align: right;\n",
       "    }\n",
       "</style>\n",
       "<table border=\"1\" class=\"dataframe\">\n",
       "  <thead>\n",
       "    <tr style=\"text-align: right;\">\n",
       "      <th></th>\n",
       "      <th>No.overall</th>\n",
       "      <th>No. inseason</th>\n",
       "      <th>Title</th>\n",
       "      <th>Storyboarded by</th>\n",
       "      <th>Directed by</th>\n",
       "      <th>Written by</th>\n",
       "      <th>Viewership rating</th>\n",
       "      <th>Original_Air_Date</th>\n",
       "      <th>English_Air_Date</th>\n",
       "    </tr>\n",
       "  </thead>\n",
       "  <tbody>\n",
       "    <tr>\n",
       "      <th>0</th>\n",
       "      <td>114</td>\n",
       "      <td>1</td>\n",
       "      <td>\"A Quiet Beginning\"Transcription: \"Shizukana H...</td>\n",
       "      <td>Tomo Ōkubo</td>\n",
       "      <td>Tomo Ōkubo</td>\n",
       "      <td>Yōsuke Kuroda</td>\n",
       "      <td>3.9</td>\n",
       "      <td>2022-10-01</td>\n",
       "      <td>2022-12-04</td>\n",
       "    </tr>\n",
       "    <tr>\n",
       "      <th>1</th>\n",
       "      <td>115</td>\n",
       "      <td>2</td>\n",
       "      <td>\"Mirko, the No. 5 Hero\"Transcription: \"Nanbā F...</td>\n",
       "      <td>Shōji Ikeno</td>\n",
       "      <td>Shōji Ikeno</td>\n",
       "      <td>Yōsuke Kuroda</td>\n",
       "      <td>3.1</td>\n",
       "      <td>2022-10-08</td>\n",
       "      <td>2022-12-11</td>\n",
       "    </tr>\n",
       "    <tr>\n",
       "      <th>2</th>\n",
       "      <td>116</td>\n",
       "      <td>3</td>\n",
       "      <td>\"One's Justice\"</td>\n",
       "      <td>Takashi Kawabata</td>\n",
       "      <td>Tsuyoshi Tobita</td>\n",
       "      <td>Yōsuke Kuroda</td>\n",
       "      <td>4.0</td>\n",
       "      <td>2022-10-15</td>\n",
       "      <td>2022-12-18</td>\n",
       "    </tr>\n",
       "    <tr>\n",
       "      <th>3</th>\n",
       "      <td>117</td>\n",
       "      <td>4</td>\n",
       "      <td>\"Inheritance\"Transcription: \"Keishō\" (Japanese...</td>\n",
       "      <td>Motonobu Hori</td>\n",
       "      <td>Kazuma Komatsu</td>\n",
       "      <td>Yōsuke Kuroda</td>\n",
       "      <td>4.0</td>\n",
       "      <td>2022-10-22</td>\n",
       "      <td>2023-01-08</td>\n",
       "    </tr>\n",
       "    <tr>\n",
       "      <th>4</th>\n",
       "      <td>118</td>\n",
       "      <td>5</td>\n",
       "      <td>\"The Thrill of Destruction\"Transcription: \"Ham...</td>\n",
       "      <td>Michio Fukuda</td>\n",
       "      <td>Ikurō Satō</td>\n",
       "      <td>Yōsuke Kuroda</td>\n",
       "      <td>4.4</td>\n",
       "      <td>2022-10-29</td>\n",
       "      <td>2023-01-15</td>\n",
       "    </tr>\n",
       "    <tr>\n",
       "      <th>5</th>\n",
       "      <td>119</td>\n",
       "      <td>6</td>\n",
       "      <td>\"Encounter, Part 2\"Transcription: \"Enkauntā 2\"...</td>\n",
       "      <td>Tomo Ōkubo</td>\n",
       "      <td>Tomo Ōkubo</td>\n",
       "      <td>Yōsuke Kuroda</td>\n",
       "      <td>3.6</td>\n",
       "      <td>2022-11-05</td>\n",
       "      <td>2023-01-22</td>\n",
       "    </tr>\n",
       "    <tr>\n",
       "      <th>6</th>\n",
       "      <td>120</td>\n",
       "      <td>7</td>\n",
       "      <td>\"Disaster Walker\"Transcription: \"Dizasutā Wōkā...</td>\n",
       "      <td>Shōji Ikeno</td>\n",
       "      <td>Shōji Ikeno</td>\n",
       "      <td>Yōsuke Kuroda</td>\n",
       "      <td>3.4</td>\n",
       "      <td>2022-11-12</td>\n",
       "      <td>2023-01-29</td>\n",
       "    </tr>\n",
       "    <tr>\n",
       "      <th>7</th>\n",
       "      <td>121</td>\n",
       "      <td>8</td>\n",
       "      <td>\"League of Villains vs. U.A. Students\"Transcri...</td>\n",
       "      <td>Kō Matsuo</td>\n",
       "      <td>Kazuma Komatsu</td>\n",
       "      <td>Yōsuke Kuroda</td>\n",
       "      <td>3.4</td>\n",
       "      <td>2022-11-19</td>\n",
       "      <td>2023-02-05</td>\n",
       "    </tr>\n",
       "    <tr>\n",
       "      <th>8</th>\n",
       "      <td>122</td>\n",
       "      <td>9</td>\n",
       "      <td>\"Katsuki Bakugo: Rising\"Transcription: \"Bakugō...</td>\n",
       "      <td>Tomohiro Kamitani</td>\n",
       "      <td>Tomohiro Kamitani</td>\n",
       "      <td>Yōsuke Kuroda</td>\n",
       "      <td>3.7</td>\n",
       "      <td>2022-11-26</td>\n",
       "      <td>2023-02-12</td>\n",
       "    </tr>\n",
       "    <tr>\n",
       "      <th>9</th>\n",
       "      <td>123</td>\n",
       "      <td>10</td>\n",
       "      <td>\"The Ones Within Us\"Transcription: \"Bokura no ...</td>\n",
       "      <td>Tomo Ōkubo</td>\n",
       "      <td>Tomo Ōkubo</td>\n",
       "      <td>Yōsuke Kuroda</td>\n",
       "      <td>5.3</td>\n",
       "      <td>2022-12-03</td>\n",
       "      <td>2023-02-19</td>\n",
       "    </tr>\n",
       "    <tr>\n",
       "      <th>10</th>\n",
       "      <td>124</td>\n",
       "      <td>11</td>\n",
       "      <td>\"Dabi's Dance\"Transcription: \"Dabi Dansu\" (Jap...</td>\n",
       "      <td>Shōji Ikeno</td>\n",
       "      <td>Shōji Ikeno</td>\n",
       "      <td>Yōsuke Kuroda</td>\n",
       "      <td>3.9</td>\n",
       "      <td>2022-12-10</td>\n",
       "      <td>2023-02-26</td>\n",
       "    </tr>\n",
       "    <tr>\n",
       "      <th>11</th>\n",
       "      <td>125</td>\n",
       "      <td>12</td>\n",
       "      <td>\"Threads of Hope\"Transcription: \"Ichiru no Kib...</td>\n",
       "      <td>Minoru Ōhara</td>\n",
       "      <td>Ikurō Satō</td>\n",
       "      <td>Yōsuke Kuroda</td>\n",
       "      <td>3.7</td>\n",
       "      <td>2022-12-17</td>\n",
       "      <td>2023-03-05</td>\n",
       "    </tr>\n",
       "    <tr>\n",
       "      <th>12</th>\n",
       "      <td>126</td>\n",
       "      <td>13</td>\n",
       "      <td>\"Final Performance\"Transcription: \"Rasuto Sutē...</td>\n",
       "      <td>Tomo Ōkubo</td>\n",
       "      <td>Tsuyoshi Tobita</td>\n",
       "      <td>Yōsuke Kuroda</td>\n",
       "      <td>4.3</td>\n",
       "      <td>2022-12-24</td>\n",
       "      <td>2023-03-05</td>\n",
       "    </tr>\n",
       "    <tr>\n",
       "      <th>13</th>\n",
       "      <td>127</td>\n",
       "      <td>14</td>\n",
       "      <td>\"Hellish Hell\"Transcription: \"Gokukoku, Jigoku...</td>\n",
       "      <td>Takashi Kawabata</td>\n",
       "      <td>Shōji Ikeno</td>\n",
       "      <td>Yōsuke Kuroda</td>\n",
       "      <td>4.1</td>\n",
       "      <td>2023-01-07</td>\n",
       "      <td>2023-03-12</td>\n",
       "    </tr>\n",
       "    <tr>\n",
       "      <th>14</th>\n",
       "      <td>128</td>\n",
       "      <td>15</td>\n",
       "      <td>\"Tartarus\"Transcription: \"Tarutarosu\" (Japanes...</td>\n",
       "      <td>Tomo Ōkubo</td>\n",
       "      <td>Tomo Ōkubo</td>\n",
       "      <td>Yōsuke Kuroda</td>\n",
       "      <td>3.2</td>\n",
       "      <td>2023-01-14</td>\n",
       "      <td>2023-03-12</td>\n",
       "    </tr>\n",
       "    <tr>\n",
       "      <th>15</th>\n",
       "      <td>129</td>\n",
       "      <td>16</td>\n",
       "      <td>\"The Hellish Todoroki Family, Part 2\"Transcrip...</td>\n",
       "      <td>Takashi Kawabata</td>\n",
       "      <td>Kazuma Komatsu</td>\n",
       "      <td>Yōsuke Kuroda</td>\n",
       "      <td>3.3</td>\n",
       "      <td>2023-01-21</td>\n",
       "      <td>2023-03-19</td>\n",
       "    </tr>\n",
       "    <tr>\n",
       "      <th>16</th>\n",
       "      <td>130</td>\n",
       "      <td>17</td>\n",
       "      <td>\"The Wrong Way to Put Out a Fire\"Transcription...</td>\n",
       "      <td>Shōji Ikeno</td>\n",
       "      <td>Shōji Ikeno</td>\n",
       "      <td>Yōsuke Kuroda</td>\n",
       "      <td>4.0</td>\n",
       "      <td>2023-01-28</td>\n",
       "      <td>2023-03-19</td>\n",
       "    </tr>\n",
       "    <tr>\n",
       "      <th>17</th>\n",
       "      <td>131</td>\n",
       "      <td>18</td>\n",
       "      <td>\"Izuku Midoriya and Tomura Shigaraki\"Transcrip...</td>\n",
       "      <td>Shōji Ikeno</td>\n",
       "      <td>Ikurō Satō</td>\n",
       "      <td>Yōsuke Kuroda</td>\n",
       "      <td>3.6</td>\n",
       "      <td>2023-02-04</td>\n",
       "      <td>2023-03-26</td>\n",
       "    </tr>\n",
       "    <tr>\n",
       "      <th>18</th>\n",
       "      <td>132</td>\n",
       "      <td>19</td>\n",
       "      <td>\"Full Power!!\"Transcription: \"Zenryoku!!\" (Jap...</td>\n",
       "      <td>Tomohiro Kamitani</td>\n",
       "      <td>Shōji Ikeno</td>\n",
       "      <td>Yōsuke Kuroda</td>\n",
       "      <td>3.8</td>\n",
       "      <td>2023-02-11</td>\n",
       "      <td>2023-03-26</td>\n",
       "    </tr>\n",
       "    <tr>\n",
       "      <th>19</th>\n",
       "      <td>133</td>\n",
       "      <td>20</td>\n",
       "      <td>\"Hired Gun\"Transcription: \"Shikaku\" (Japanese:...</td>\n",
       "      <td>Shinji Satō</td>\n",
       "      <td>Tsuyoshi Tobita</td>\n",
       "      <td>Yōsuke Kuroda</td>\n",
       "      <td>3.5</td>\n",
       "      <td>2023-02-18</td>\n",
       "      <td>2023-04-02</td>\n",
       "    </tr>\n",
       "    <tr>\n",
       "      <th>20</th>\n",
       "      <td>134</td>\n",
       "      <td>21</td>\n",
       "      <td>\"The Lovely Lady Nagant\"Transcription: \"Uruwas...</td>\n",
       "      <td>Tomo Ōkubo</td>\n",
       "      <td>Tomo Ōkubo</td>\n",
       "      <td>Yōsuke Kuroda</td>\n",
       "      <td>3.8</td>\n",
       "      <td>2023-02-25</td>\n",
       "      <td>2023-04-02</td>\n",
       "    </tr>\n",
       "    <tr>\n",
       "      <th>21</th>\n",
       "      <td>135</td>\n",
       "      <td>22</td>\n",
       "      <td>\"Friend\"Transcription: \"Tomodachi\" (Japanese: ...</td>\n",
       "      <td>Shōji Ikeno</td>\n",
       "      <td>Shōji Ikeno</td>\n",
       "      <td>Yōsuke Kuroda</td>\n",
       "      <td>3.1</td>\n",
       "      <td>2023-03-04</td>\n",
       "      <td>2023-04-09</td>\n",
       "    </tr>\n",
       "    <tr>\n",
       "      <th>22</th>\n",
       "      <td>136</td>\n",
       "      <td>23</td>\n",
       "      <td>\"Deku vs. Class A\"Transcription: \"Deku Bāsasu ...</td>\n",
       "      <td>Shinji Satō</td>\n",
       "      <td>Tomo Ōkubo</td>\n",
       "      <td>Yōsuke Kuroda</td>\n",
       "      <td>2.7</td>\n",
       "      <td>2023-03-11</td>\n",
       "      <td>2023-04-09</td>\n",
       "    </tr>\n",
       "    <tr>\n",
       "      <th>23</th>\n",
       "      <td>137</td>\n",
       "      <td>24</td>\n",
       "      <td>\"A Young Woman's Declaration\"Transcription: \"M...</td>\n",
       "      <td>Kō Matsuo</td>\n",
       "      <td>Ikurō Satō</td>\n",
       "      <td>Yōsuke Kuroda</td>\n",
       "      <td>3.3</td>\n",
       "      <td>2023-03-18</td>\n",
       "      <td>2023-04-16</td>\n",
       "    </tr>\n",
       "    <tr>\n",
       "      <th>24</th>\n",
       "      <td>138</td>\n",
       "      <td>25</td>\n",
       "      <td>\"No Man Is an Island\"Transcription: \"Tsunagaru...</td>\n",
       "      <td>Shinji Satō</td>\n",
       "      <td>Shōji Ikeno</td>\n",
       "      <td>Yōsuke Kuroda</td>\n",
       "      <td>3.0</td>\n",
       "      <td>2023-03-25</td>\n",
       "      <td>NaT</td>\n",
       "    </tr>\n",
       "  </tbody>\n",
       "</table>\n",
       "</div>"
      ],
      "text/plain": [
       "    No.overall  No. inseason  \\\n",
       "0          114             1   \n",
       "1          115             2   \n",
       "2          116             3   \n",
       "3          117             4   \n",
       "4          118             5   \n",
       "5          119             6   \n",
       "6          120             7   \n",
       "7          121             8   \n",
       "8          122             9   \n",
       "9          123            10   \n",
       "10         124            11   \n",
       "11         125            12   \n",
       "12         126            13   \n",
       "13         127            14   \n",
       "14         128            15   \n",
       "15         129            16   \n",
       "16         130            17   \n",
       "17         131            18   \n",
       "18         132            19   \n",
       "19         133            20   \n",
       "20         134            21   \n",
       "21         135            22   \n",
       "22         136            23   \n",
       "23         137            24   \n",
       "24         138            25   \n",
       "\n",
       "                                                Title    Storyboarded by  \\\n",
       "0   \"A Quiet Beginning\"Transcription: \"Shizukana H...         Tomo Ōkubo   \n",
       "1   \"Mirko, the No. 5 Hero\"Transcription: \"Nanbā F...        Shōji Ikeno   \n",
       "2                                     \"One's Justice\"   Takashi Kawabata   \n",
       "3   \"Inheritance\"Transcription: \"Keishō\" (Japanese...      Motonobu Hori   \n",
       "4   \"The Thrill of Destruction\"Transcription: \"Ham...      Michio Fukuda   \n",
       "5   \"Encounter, Part 2\"Transcription: \"Enkauntā 2\"...         Tomo Ōkubo   \n",
       "6   \"Disaster Walker\"Transcription: \"Dizasutā Wōkā...        Shōji Ikeno   \n",
       "7   \"League of Villains vs. U.A. Students\"Transcri...          Kō Matsuo   \n",
       "8   \"Katsuki Bakugo: Rising\"Transcription: \"Bakugō...  Tomohiro Kamitani   \n",
       "9   \"The Ones Within Us\"Transcription: \"Bokura no ...         Tomo Ōkubo   \n",
       "10  \"Dabi's Dance\"Transcription: \"Dabi Dansu\" (Jap...        Shōji Ikeno   \n",
       "11  \"Threads of Hope\"Transcription: \"Ichiru no Kib...       Minoru Ōhara   \n",
       "12  \"Final Performance\"Transcription: \"Rasuto Sutē...         Tomo Ōkubo   \n",
       "13  \"Hellish Hell\"Transcription: \"Gokukoku, Jigoku...   Takashi Kawabata   \n",
       "14  \"Tartarus\"Transcription: \"Tarutarosu\" (Japanes...         Tomo Ōkubo   \n",
       "15  \"The Hellish Todoroki Family, Part 2\"Transcrip...   Takashi Kawabata   \n",
       "16  \"The Wrong Way to Put Out a Fire\"Transcription...        Shōji Ikeno   \n",
       "17  \"Izuku Midoriya and Tomura Shigaraki\"Transcrip...        Shōji Ikeno   \n",
       "18  \"Full Power!!\"Transcription: \"Zenryoku!!\" (Jap...  Tomohiro Kamitani   \n",
       "19  \"Hired Gun\"Transcription: \"Shikaku\" (Japanese:...        Shinji Satō   \n",
       "20  \"The Lovely Lady Nagant\"Transcription: \"Uruwas...         Tomo Ōkubo   \n",
       "21  \"Friend\"Transcription: \"Tomodachi\" (Japanese: ...        Shōji Ikeno   \n",
       "22  \"Deku vs. Class A\"Transcription: \"Deku Bāsasu ...        Shinji Satō   \n",
       "23  \"A Young Woman's Declaration\"Transcription: \"M...          Kō Matsuo   \n",
       "24  \"No Man Is an Island\"Transcription: \"Tsunagaru...        Shinji Satō   \n",
       "\n",
       "          Directed by     Written by  Viewership rating Original_Air_Date  \\\n",
       "0          Tomo Ōkubo  Yōsuke Kuroda                3.9        2022-10-01   \n",
       "1         Shōji Ikeno  Yōsuke Kuroda                3.1        2022-10-08   \n",
       "2     Tsuyoshi Tobita  Yōsuke Kuroda                4.0        2022-10-15   \n",
       "3      Kazuma Komatsu  Yōsuke Kuroda                4.0        2022-10-22   \n",
       "4          Ikurō Satō  Yōsuke Kuroda                4.4        2022-10-29   \n",
       "5          Tomo Ōkubo  Yōsuke Kuroda                3.6        2022-11-05   \n",
       "6         Shōji Ikeno  Yōsuke Kuroda                3.4        2022-11-12   \n",
       "7      Kazuma Komatsu  Yōsuke Kuroda                3.4        2022-11-19   \n",
       "8   Tomohiro Kamitani  Yōsuke Kuroda                3.7        2022-11-26   \n",
       "9          Tomo Ōkubo  Yōsuke Kuroda                5.3        2022-12-03   \n",
       "10        Shōji Ikeno  Yōsuke Kuroda                3.9        2022-12-10   \n",
       "11         Ikurō Satō  Yōsuke Kuroda                3.7        2022-12-17   \n",
       "12    Tsuyoshi Tobita  Yōsuke Kuroda                4.3        2022-12-24   \n",
       "13        Shōji Ikeno  Yōsuke Kuroda                4.1        2023-01-07   \n",
       "14         Tomo Ōkubo  Yōsuke Kuroda                3.2        2023-01-14   \n",
       "15     Kazuma Komatsu  Yōsuke Kuroda                3.3        2023-01-21   \n",
       "16        Shōji Ikeno  Yōsuke Kuroda                4.0        2023-01-28   \n",
       "17         Ikurō Satō  Yōsuke Kuroda                3.6        2023-02-04   \n",
       "18        Shōji Ikeno  Yōsuke Kuroda                3.8        2023-02-11   \n",
       "19    Tsuyoshi Tobita  Yōsuke Kuroda                3.5        2023-02-18   \n",
       "20         Tomo Ōkubo  Yōsuke Kuroda                3.8        2023-02-25   \n",
       "21        Shōji Ikeno  Yōsuke Kuroda                3.1        2023-03-04   \n",
       "22         Tomo Ōkubo  Yōsuke Kuroda                2.7        2023-03-11   \n",
       "23         Ikurō Satō  Yōsuke Kuroda                3.3        2023-03-18   \n",
       "24        Shōji Ikeno  Yōsuke Kuroda                3.0        2023-03-25   \n",
       "\n",
       "   English_Air_Date  \n",
       "0        2022-12-04  \n",
       "1        2022-12-11  \n",
       "2        2022-12-18  \n",
       "3        2023-01-08  \n",
       "4        2023-01-15  \n",
       "5        2023-01-22  \n",
       "6        2023-01-29  \n",
       "7        2023-02-05  \n",
       "8        2023-02-12  \n",
       "9        2023-02-19  \n",
       "10       2023-02-26  \n",
       "11       2023-03-05  \n",
       "12       2023-03-05  \n",
       "13       2023-03-12  \n",
       "14       2023-03-12  \n",
       "15       2023-03-19  \n",
       "16       2023-03-19  \n",
       "17       2023-03-26  \n",
       "18       2023-03-26  \n",
       "19       2023-04-02  \n",
       "20       2023-04-02  \n",
       "21       2023-04-09  \n",
       "22       2023-04-09  \n",
       "23       2023-04-16  \n",
       "24              NaT  "
      ]
     },
     "execution_count": 17,
     "metadata": {},
     "output_type": "execute_result"
    }
   ],
   "source": [
    "season_six_anime"
   ]
  },
  {
   "cell_type": "code",
   "execution_count": 18,
   "id": "663e0144",
   "metadata": {},
   "outputs": [],
   "source": [
    "ships_dates = AO3.drop(columns = ['title', 'mixed fandom', 'ships', 'characters'])\n",
    "ships_dates.describe()\n",
    "ships_dates['sum hits'] = ships_dates['hits']\n",
    "ships_dates['sum kudos'] = ships_dates['kudos']"
   ]
  },
  {
   "cell_type": "code",
   "execution_count": 20,
   "id": "65a18bb8",
   "metadata": {},
   "outputs": [],
   "source": [
    "ships_dates_group = ships_dates.groupby(['published']).agg({'hits': 'mean','sum hits': 'sum', 'kudos': 'mean', 'sum kudos': 'sum', 'Deku': 'sum', 'Bakugo': 'sum', 'Deku & Bakugo': 'sum', 'Aizawa': 'sum',\n",
    "       'Prez Mic': 'sum', 'Aizawa & Prez Mic': 'sum', 'Aizawa & Deku': 'sum', 'Enjiro': 'sum',\n",
    "       'Bakugo & Kirishima': 'sum', 'Shoto': 'sum', 'Deku & Shoto': 'sum', 'Dabi': 'sum', 'Hawks': 'sum',\n",
    "       'Dabi & Hawks': 'sum', 'Uraraka': 'sum', 'Deku & Uraraka': 'sum', 'All Might': 'sum',\n",
    "       'Deku & All Might': 'sum', 'Class': 'sum', 'Deku & Class': 'sum', 'Denki': 'sum', 'Shinsou': 'sum',\n",
    "       'Denki & Shinsou': 'sum', 'Deku & Shinsou': 'sum', 'Reader': 'sum', 'Bakugo & Reader': 'sum',\n",
    "       'Bakugo & Shoto': 'sum', 'Deku & Prez Mic': 'sum', 'Mina': 'sum', 'Kirashima': 'sum',\n",
    "       'Mina & Kirashima': 'sum', 'Jirou': 'sum', 'Jirou & Denki': 'sum', 'Shigaraki Tomura': 'sum',\n",
    "       'Deku & Shigaraki Tomura': 'sum', 'Aizawa & Shinsou': 'sum', 'Nedzu': 'sum', 'Deku & Nedzu': 'sum',\n",
    "       'Deku & Reader': 'sum'})"
   ]
  },
  {
   "cell_type": "code",
   "execution_count": 21,
   "id": "fa6769ee",
   "metadata": {},
   "outputs": [],
   "source": [
    "ships_only = ships_dates_group.loc[:,['Deku & Bakugo', 'Aizawa & Prez Mic', 'Aizawa & Deku', 'Bakugo & Kirishima', 'Deku & Shoto', 'Dabi & Hawks', 'Deku & Uraraka', 'Deku & All Might', 'Deku & Class', 'Denki & Shinsou', 'Deku & Shinsou', 'Bakugo & Reader', 'Bakugo & Shoto', 'Deku & Prez Mic', 'Mina & Kirashima', 'Jirou & Denki', 'Deku & Shigaraki Tomura', 'Aizawa & Shinsou', 'Deku & Nedzu', 'Deku & Reader']]"
   ]
  },
  {
   "cell_type": "code",
   "execution_count": 40,
   "id": "513dae00",
   "metadata": {},
   "outputs": [
    {
     "data": {
      "image/png": "[encoded data removed]",
      "text/plain": [
       "<Figure size 1000x600 with 1 Axes>"
      ]
     },
     "metadata": {},
     "output_type": "display_data"
    }
   ],
   "source": [
    "colors = ['blue', 'red', 'green', 'orange', 'purple', 'brown', 'pink', 'gray', 'olive', 'teal',\n",
    "          'navy', 'maroon', 'lime', 'fuchsia', 'aqua', 'black', 'silver', 'gold', 'indigo', 'violet']\n",
    "\n",
    "\n",
    "ships_only.plot(color = colors)\n",
    "plt.ylabel('occurences')\n",
    "plt.title('Ships by published')\n",
    "plt.legend(bbox_to_anchor = (0.5, -0.2), loc = 'upper center')\n",
    "plt.axvline(x = season_six_anime['English_Air_Date'][19], color = 'black')\n",
    "plt.show()"
   ]
  },
  {
   "cell_type": "code",
   "execution_count": 48,
   "id": "d392eed3",
   "metadata": {},
   "outputs": [
    {
     "data": {
      "text/plain": [
       "0     2022-10-01\n",
       "1     2022-10-08\n",
       "2     2022-10-15\n",
       "3     2022-10-22\n",
       "4     2022-10-29\n",
       "5     2022-11-05\n",
       "6     2022-11-12\n",
       "7     2022-11-19\n",
       "8     2022-11-26\n",
       "9     2022-12-03\n",
       "10    2022-12-10\n",
       "11    2022-12-17\n",
       "12    2022-12-24\n",
       "13    2023-01-07\n",
       "14    2023-01-14\n",
       "15    2023-01-21\n",
       "16    2023-01-28\n",
       "17    2023-02-04\n",
       "18    2023-02-11\n",
       "19    2023-02-18\n",
       "20    2023-02-25\n",
       "21    2023-03-04\n",
       "22    2023-03-11\n",
       "23    2023-03-18\n",
       "24    2023-03-25\n",
       "Name: Original_Air_Date, dtype: object"
      ]
     },
     "execution_count": 48,
     "metadata": {},
     "output_type": "execute_result"
    }
   ],
   "source": [
    "season_six_anime['Original_Air_Date']"
   ]
  },
  {
   "cell_type": "code",
   "execution_count": 42,
   "id": "324e7fb6",
   "metadata": {},
   "outputs": [],
   "source": [
    "char_in_ships = ships_only = ships_dates_group.drop(columns = ['kudos', 'hits', 'sum kudos', 'sum hits', 'Deku & Bakugo', 'Aizawa & Prez Mic', 'Aizawa & Deku', 'Bakugo & Kirishima', 'Deku & Shoto', 'Dabi & Hawks', 'Deku & Uraraka', 'Deku & All Might', 'Deku & Class', 'Denki & Shinsou', 'Deku & Shinsou', 'Bakugo & Reader', 'Bakugo & Shoto', 'Deku & Prez Mic', 'Mina & Kirashima', 'Jirou & Denki', 'Deku & Shigaraki Tomura', 'Aizawa & Shinsou', 'Deku & Nedzu', 'Deku & Reader'])"
   ]
  },
  {
   "cell_type": "code",
   "execution_count": 45,
   "id": "34f6ce93",
   "metadata": {},
   "outputs": [
    {
     "data": {
      "image/png": "[encoded data removed]",
      "text/plain": [
       "<Figure size 1000x600 with 1 Axes>"
      ]
     },
     "metadata": {},
     "output_type": "display_data"
    }
   ],
   "source": [
    "colors = ['blue', 'red', 'green', 'orange', 'purple', 'brown', 'pink', 'gray', 'olive', 'teal',\n",
    "          'navy', 'maroon', 'lime', 'fuchsia', 'aqua', 'black', 'silver', 'gold', 'indigo', 'violet']\n",
    "\n",
    "\n",
    "char_in_ships.plot(color = colors)\n",
    "plt.ylabel('occurences')\n",
    "plt.title('charters in ships by published')\n",
    "plt.legend(bbox_to_anchor = (0.5, -0.2), loc = 'upper center')\n",
    "plt.axvline(x = season_six_anime['English_Air_Date'][19], color = 'black')\n",
    "plt.show()"
   ]
  },
  {
   "cell_type": "code",
   "execution_count": 54,
   "id": "189a6dbc",
   "metadata": {},
   "outputs": [
    {
     "data": {
      "text/html": [
       "<div>\n",
       "<style scoped>\n",
       "    .dataframe tbody tr th:only-of-type {\n",
       "        vertical-align: middle;\n",
       "    }\n",
       "\n",
       "    .dataframe tbody tr th {\n",
       "        vertical-align: top;\n",
       "    }\n",
       "\n",
       "    .dataframe thead th {\n",
       "        text-align: right;\n",
       "    }\n",
       "</style>\n",
       "<table border=\"1\" class=\"dataframe\">\n",
       "  <thead>\n",
       "    <tr style=\"text-align: right;\">\n",
       "      <th></th>\n",
       "      <th>No.</th>\n",
       "      <th>Title</th>\n",
       "      <th>Original_Release_Date</th>\n",
       "      <th>English_Release_Date</th>\n",
       "    </tr>\n",
       "  </thead>\n",
       "  <tbody>\n",
       "    <tr>\n",
       "      <th>0</th>\n",
       "      <td>1</td>\n",
       "      <td>Izuku Midoriya: OriginMidoriya Izuku: Orijin (...</td>\n",
       "      <td>2014-11-04</td>\n",
       "      <td>2015-08-04</td>\n",
       "    </tr>\n",
       "    <tr>\n",
       "      <th>1</th>\n",
       "      <td>2</td>\n",
       "      <td>Rage, You Damned NerdTakere Kusonādo (猛れクソナード)</td>\n",
       "      <td>2015-01-05</td>\n",
       "      <td>2015-11-03</td>\n",
       "    </tr>\n",
       "    <tr>\n",
       "      <th>2</th>\n",
       "      <td>3</td>\n",
       "      <td>All MightŌrumaito (オールマイト)</td>\n",
       "      <td>2015-04-03</td>\n",
       "      <td>2016-02-02</td>\n",
       "    </tr>\n",
       "    <tr>\n",
       "      <th>3</th>\n",
       "      <td>4</td>\n",
       "      <td>The Boy Born With EverythingSubete wo Motte Um...</td>\n",
       "      <td>2015-06-04</td>\n",
       "      <td>2016-05-03</td>\n",
       "    </tr>\n",
       "    <tr>\n",
       "      <th>4</th>\n",
       "      <td>5</td>\n",
       "      <td>Shoto Todoroki: OriginTodoroki Shōto: Origin (...</td>\n",
       "      <td>2015-08-04</td>\n",
       "      <td>2016-08-02</td>\n",
       "    </tr>\n",
       "    <tr>\n",
       "      <th>5</th>\n",
       "      <td>6</td>\n",
       "      <td>StrugglingUgomeku (蠢く)</td>\n",
       "      <td>2015-11-04</td>\n",
       "      <td>2016-11-01</td>\n",
       "    </tr>\n",
       "    <tr>\n",
       "      <th>6</th>\n",
       "      <td>7</td>\n",
       "      <td>Katsuki Bakugo: OriginBakugō Katsuki: Origin (...</td>\n",
       "      <td>2016-02-04</td>\n",
       "      <td>2017-02-07</td>\n",
       "    </tr>\n",
       "    <tr>\n",
       "      <th>7</th>\n",
       "      <td>8</td>\n",
       "      <td>Yaoyorozu RisingYaoyorozu: Raijingu (八百万：ライジング)</td>\n",
       "      <td>2016-04-04</td>\n",
       "      <td>2017-05-02</td>\n",
       "    </tr>\n",
       "    <tr>\n",
       "      <th>8</th>\n",
       "      <td>9</td>\n",
       "      <td>My HeroBoku no Hīrō (僕のヒーロー)</td>\n",
       "      <td>2016-06-03</td>\n",
       "      <td>2017-08-01</td>\n",
       "    </tr>\n",
       "    <tr>\n",
       "      <th>9</th>\n",
       "      <td>10</td>\n",
       "      <td>All For OneŌru Fō Wan (オール・フォー・ワン)</td>\n",
       "      <td>2016-09-02</td>\n",
       "      <td>2017-11-07</td>\n",
       "    </tr>\n",
       "    <tr>\n",
       "      <th>10</th>\n",
       "      <td>11</td>\n",
       "      <td>End of the Beginning, Beginning of the EndHaji...</td>\n",
       "      <td>2016-11-04</td>\n",
       "      <td>2018-02-06</td>\n",
       "    </tr>\n",
       "    <tr>\n",
       "      <th>11</th>\n",
       "      <td>12</td>\n",
       "      <td>The TestZa Shiken (THE 試験)</td>\n",
       "      <td>2017-02-03</td>\n",
       "      <td>2018-04-03</td>\n",
       "    </tr>\n",
       "    <tr>\n",
       "      <th>12</th>\n",
       "      <td>13</td>\n",
       "      <td>A Talk About Your QuirkTemee no \"Kosei\" no Han...</td>\n",
       "      <td>2017-04-04</td>\n",
       "      <td>2018-06-05</td>\n",
       "    </tr>\n",
       "    <tr>\n",
       "      <th>13</th>\n",
       "      <td>14</td>\n",
       "      <td>OverhaulŌbāhōru (オーバーホール)</td>\n",
       "      <td>2017-06-02</td>\n",
       "      <td>2018-08-07</td>\n",
       "    </tr>\n",
       "    <tr>\n",
       "      <th>14</th>\n",
       "      <td>15</td>\n",
       "      <td>Fighting FateAragau Unmei (抗う運命)</td>\n",
       "      <td>2017-09-04</td>\n",
       "      <td>2018-10-02</td>\n",
       "    </tr>\n",
       "    <tr>\n",
       "      <th>15</th>\n",
       "      <td>16</td>\n",
       "      <td>Red RiotReddo Raiotto (.mw-parser-output .temp...</td>\n",
       "      <td>2017-11-02</td>\n",
       "      <td>2018-12-04</td>\n",
       "    </tr>\n",
       "    <tr>\n",
       "      <th>16</th>\n",
       "      <td>17</td>\n",
       "      <td>LemillionRumirion (ルミリオン)</td>\n",
       "      <td>2018-02-02</td>\n",
       "      <td>2019-02-05</td>\n",
       "    </tr>\n",
       "    <tr>\n",
       "      <th>17</th>\n",
       "      <td>18</td>\n",
       "      <td>Bright FutureAkarui Mirai (明るい将来)</td>\n",
       "      <td>2018-04-04</td>\n",
       "      <td>2019-04-02</td>\n",
       "    </tr>\n",
       "    <tr>\n",
       "      <th>18</th>\n",
       "      <td>19</td>\n",
       "      <td>School FestivalBunkasai (文化祭)</td>\n",
       "      <td>2018-07-04</td>\n",
       "      <td>2019-06-04</td>\n",
       "    </tr>\n",
       "    <tr>\n",
       "      <th>19</th>\n",
       "      <td>20</td>\n",
       "      <td>School Festival Start!!Kaisai Bunkasai!! (開催文化...</td>\n",
       "      <td>2018-09-04</td>\n",
       "      <td>2019-08-06</td>\n",
       "    </tr>\n",
       "    <tr>\n",
       "      <th>20</th>\n",
       "      <td>21</td>\n",
       "      <td>Why He Gets Back UpKare wa Naze Tachi Tsuzuket...</td>\n",
       "      <td>2018-12-04</td>\n",
       "      <td>2019-10-01</td>\n",
       "    </tr>\n",
       "    <tr>\n",
       "      <th>21</th>\n",
       "      <td>22</td>\n",
       "      <td>That Which is InheritedUketsugu Mono (受け継ぐモノ)</td>\n",
       "      <td>2019-02-04</td>\n",
       "      <td>2019-12-03</td>\n",
       "    </tr>\n",
       "    <tr>\n",
       "      <th>22</th>\n",
       "      <td>23</td>\n",
       "      <td>Our BrawlBokura no Dairansen (ぼくらの大乱戦)</td>\n",
       "      <td>2019-05-02</td>\n",
       "      <td>2020-02-04</td>\n",
       "    </tr>\n",
       "    <tr>\n",
       "      <th>23</th>\n",
       "      <td>24</td>\n",
       "      <td>All It Takes Is One Bad Day</td>\n",
       "      <td>2019-08-02</td>\n",
       "      <td>2020-06-02</td>\n",
       "    </tr>\n",
       "    <tr>\n",
       "      <th>24</th>\n",
       "      <td>25</td>\n",
       "      <td>Tomura Shigaraki: OriginShigaraki Tomura: Orij...</td>\n",
       "      <td>2019-12-04</td>\n",
       "      <td>2020-10-06</td>\n",
       "    </tr>\n",
       "    <tr>\n",
       "      <th>25</th>\n",
       "      <td>26</td>\n",
       "      <td>The High, Deep Blue SkySora, Takaku Gunjō (空、高...</td>\n",
       "      <td>2020-03-04</td>\n",
       "      <td>2021-01-05</td>\n",
       "    </tr>\n",
       "    <tr>\n",
       "      <th>26</th>\n",
       "      <td>27</td>\n",
       "      <td>One's JusticeWanzu Jasutisu (ワンズ ジャスティス)</td>\n",
       "      <td>2020-07-03</td>\n",
       "      <td>2021-04-06</td>\n",
       "    </tr>\n",
       "    <tr>\n",
       "      <th>27</th>\n",
       "      <td>28</td>\n",
       "      <td>The Thrill of DestructionHametsu no Borutēji (...</td>\n",
       "      <td>2020-09-04</td>\n",
       "      <td>2021-06-01</td>\n",
       "    </tr>\n",
       "    <tr>\n",
       "      <th>28</th>\n",
       "      <td>29</td>\n",
       "      <td>Katsuki Bakugo RisingBakugō Katsuki: Raijingu ...</td>\n",
       "      <td>2021-01-04</td>\n",
       "      <td>2021-09-07</td>\n",
       "    </tr>\n",
       "    <tr>\n",
       "      <th>29</th>\n",
       "      <td>30</td>\n",
       "      <td>Dabi's DanceDabi Dansu (ダビダンス)</td>\n",
       "      <td>2021-04-02</td>\n",
       "      <td>2022-03-01</td>\n",
       "    </tr>\n",
       "    <tr>\n",
       "      <th>30</th>\n",
       "      <td>31</td>\n",
       "      <td>Izuku Midoriya and Toshinori YagiMidoriya Izuk...</td>\n",
       "      <td>2021-08-04</td>\n",
       "      <td>2022-07-05</td>\n",
       "    </tr>\n",
       "    <tr>\n",
       "      <th>31</th>\n",
       "      <td>32</td>\n",
       "      <td>Your TurnZa Nekusuto (THE(ザ) NEXT(ネクスト))</td>\n",
       "      <td>2021-10-04</td>\n",
       "      <td>2022-10-04</td>\n",
       "    </tr>\n",
       "    <tr>\n",
       "      <th>32</th>\n",
       "      <td>33</td>\n",
       "      <td>From Class A to One For AllĒ-Gumi kara Wan Fō ...</td>\n",
       "      <td>2022-02-04</td>\n",
       "      <td>2023-02-07</td>\n",
       "    </tr>\n",
       "    <tr>\n",
       "      <th>33</th>\n",
       "      <td>34</td>\n",
       "      <td>United States of AmericaAmerika (アメリカ)</td>\n",
       "      <td>2022-05-02</td>\n",
       "      <td>2023-05-02</td>\n",
       "    </tr>\n",
       "    <tr>\n",
       "      <th>34</th>\n",
       "      <td>35</td>\n",
       "      <td>Battle Flame</td>\n",
       "      <td>2022-07-04</td>\n",
       "      <td>2023-09-05</td>\n",
       "    </tr>\n",
       "    <tr>\n",
       "      <th>35</th>\n",
       "      <td>36</td>\n",
       "      <td>Two FlashfiresFutatsu no Kakushaku (二つの赫灼)</td>\n",
       "      <td>2022-10-04</td>\n",
       "      <td>2023-12-05</td>\n",
       "    </tr>\n",
       "    <tr>\n",
       "      <th>36</th>\n",
       "      <td>37</td>\n",
       "      <td>Those Who Defend, Those Who ViolateFusegu Mono...</td>\n",
       "      <td>2023-02-03</td>\n",
       "      <td>NaN</td>\n",
       "    </tr>\n",
       "  </tbody>\n",
       "</table>\n",
       "</div>"
      ],
      "text/plain": [
       "    No.                                              Title  \\\n",
       "0     1  Izuku Midoriya: OriginMidoriya Izuku: Orijin (...   \n",
       "1     2     Rage, You Damned NerdTakere Kusonādo (猛れクソナード)   \n",
       "2     3                         All MightŌrumaito (オールマイト)   \n",
       "3     4  The Boy Born With EverythingSubete wo Motte Um...   \n",
       "4     5  Shoto Todoroki: OriginTodoroki Shōto: Origin (...   \n",
       "5     6                             StrugglingUgomeku (蠢く)   \n",
       "6     7  Katsuki Bakugo: OriginBakugō Katsuki: Origin (...   \n",
       "7     8    Yaoyorozu RisingYaoyorozu: Raijingu (八百万：ライジング)   \n",
       "8     9                       My HeroBoku no Hīrō (僕のヒーロー)   \n",
       "9    10                 All For OneŌru Fō Wan (オール・フォー・ワン)   \n",
       "10   11  End of the Beginning, Beginning of the EndHaji...   \n",
       "11   12                         The TestZa Shiken (THE 試験)   \n",
       "12   13  A Talk About Your QuirkTemee no \"Kosei\" no Han...   \n",
       "13   14                          OverhaulŌbāhōru (オーバーホール)   \n",
       "14   15                   Fighting FateAragau Unmei (抗う運命)   \n",
       "15   16  Red RiotReddo Raiotto (.mw-parser-output .temp...   \n",
       "16   17                          LemillionRumirion (ルミリオン)   \n",
       "17   18                  Bright FutureAkarui Mirai (明るい将来)   \n",
       "18   19                      School FestivalBunkasai (文化祭)   \n",
       "19   20  School Festival Start!!Kaisai Bunkasai!! (開催文化...   \n",
       "20   21  Why He Gets Back UpKare wa Naze Tachi Tsuzuket...   \n",
       "21   22      That Which is InheritedUketsugu Mono (受け継ぐモノ)   \n",
       "22   23             Our BrawlBokura no Dairansen (ぼくらの大乱戦)   \n",
       "23   24                        All It Takes Is One Bad Day   \n",
       "24   25  Tomura Shigaraki: OriginShigaraki Tomura: Orij...   \n",
       "25   26  The High, Deep Blue SkySora, Takaku Gunjō (空、高...   \n",
       "26   27           One's JusticeWanzu Jasutisu (ワンズ ジャスティス)   \n",
       "27   28  The Thrill of DestructionHametsu no Borutēji (...   \n",
       "28   29  Katsuki Bakugo RisingBakugō Katsuki: Raijingu ...   \n",
       "29   30                     Dabi's DanceDabi Dansu (ダビダンス)   \n",
       "30   31  Izuku Midoriya and Toshinori YagiMidoriya Izuk...   \n",
       "31   32           Your TurnZa Nekusuto (THE(ザ) NEXT(ネクスト))   \n",
       "32   33  From Class A to One For AllĒ-Gumi kara Wan Fō ...   \n",
       "33   34             United States of AmericaAmerika (アメリカ)   \n",
       "34   35                                       Battle Flame   \n",
       "35   36         Two FlashfiresFutatsu no Kakushaku (二つの赫灼)   \n",
       "36   37  Those Who Defend, Those Who ViolateFusegu Mono...   \n",
       "\n",
       "   Original_Release_Date English_Release_Date  \n",
       "0             2014-11-04           2015-08-04  \n",
       "1             2015-01-05           2015-11-03  \n",
       "2             2015-04-03           2016-02-02  \n",
       "3             2015-06-04           2016-05-03  \n",
       "4             2015-08-04           2016-08-02  \n",
       "5             2015-11-04           2016-11-01  \n",
       "6             2016-02-04           2017-02-07  \n",
       "7             2016-04-04           2017-05-02  \n",
       "8             2016-06-03           2017-08-01  \n",
       "9             2016-09-02           2017-11-07  \n",
       "10            2016-11-04           2018-02-06  \n",
       "11            2017-02-03           2018-04-03  \n",
       "12            2017-04-04           2018-06-05  \n",
       "13            2017-06-02           2018-08-07  \n",
       "14            2017-09-04           2018-10-02  \n",
       "15            2017-11-02           2018-12-04  \n",
       "16            2018-02-02           2019-02-05  \n",
       "17            2018-04-04           2019-04-02  \n",
       "18            2018-07-04           2019-06-04  \n",
       "19            2018-09-04           2019-08-06  \n",
       "20            2018-12-04           2019-10-01  \n",
       "21            2019-02-04           2019-12-03  \n",
       "22            2019-05-02           2020-02-04  \n",
       "23            2019-08-02           2020-06-02  \n",
       "24            2019-12-04           2020-10-06  \n",
       "25            2020-03-04           2021-01-05  \n",
       "26            2020-07-03           2021-04-06  \n",
       "27            2020-09-04           2021-06-01  \n",
       "28            2021-01-04           2021-09-07  \n",
       "29            2021-04-02           2022-03-01  \n",
       "30            2021-08-04           2022-07-05  \n",
       "31            2021-10-04           2022-10-04  \n",
       "32            2022-02-04           2023-02-07  \n",
       "33            2022-05-02           2023-05-02  \n",
       "34            2022-07-04           2023-09-05  \n",
       "35            2022-10-04           2023-12-05  \n",
       "36            2023-02-03                  NaN  "
      ]
     },
     "execution_count": 54,
     "metadata": {},
     "output_type": "execute_result"
    }
   ],
   "source": []
  },
  {
   "cell_type": "code",
   "execution_count": null,
   "id": "2ba21b07",
   "metadata": {},
   "outputs": [],
   "source": []
  }
 ],
 "metadata": {
  "kernelspec": {
   "display_name": "Python 3 (ipykernel)",
   "language": "python",
   "name": "python3"
  },
  "language_info": {
   "codemirror_mode": {
    "name": "ipython",
    "version": 3
   },
   "file_extension": ".py",
   "mimetype": "text/x-python",
   "name": "python",
   "nbconvert_exporter": "python",
   "pygments_lexer": "ipython3",
   "version": "3.9.13"
  }
 },
 "nbformat": 4,
 "nbformat_minor": 5
}
