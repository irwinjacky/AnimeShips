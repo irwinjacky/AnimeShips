{
 "cells": [
  {
   "cell_type": "markdown",
   "id": "7aff29d5",
   "metadata": {},
   "source": [
    "AO3 scraping"
   ]
  },
  {
   "cell_type": "code",
   "execution_count": 12,
   "id": "c491d791",
   "metadata": {},
   "outputs": [],
   "source": [
    "#Import libraries\n",
    "from bs4 import BeautifulSoup\n",
    "import time\n",
    "import urllib.request\n",
    "import pandas as pd"
   ]
  },
  {
   "cell_type": "code",
   "execution_count": null,
   "id": "399229a0",
   "metadata": {},
   "outputs": [],
   "source": [
    "AO3_soup = []\n",
    "\n",
    "for x in range(1, 101):\n",
    "    fanfic_page = BeautifulSoup(open(f'AO3 htmls/AO3_Page{x}.html'), 'html.parser')\n",
    "    fanfic_page.prettify()\n",
    "    AO3_soup.append(fanfic_page)\n",
    "\n",
    "AO3_soup"
   ]
  },
  {
   "cell_type": "code",
   "execution_count": null,
   "id": "0a0e7a66",
   "metadata": {},
   "outputs": [],
   "source": []
  }
 ],
 "metadata": {
  "kernelspec": {
   "display_name": "Python 3 (ipykernel)",
   "language": "python",
   "name": "python3"
  },
  "language_info": {
   "codemirror_mode": {
    "name": "ipython",
    "version": 3
   },
   "file_extension": ".py",
   "mimetype": "text/x-python",
   "name": "python",
   "nbconvert_exporter": "python",
   "pygments_lexer": "ipython3",
   "version": "3.9.13"
  }
 },
 "nbformat": 4,
 "nbformat_minor": 5
}
