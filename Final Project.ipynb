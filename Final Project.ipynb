{
 "cells": [
  {
   "cell_type": "markdown",
   "id": "caeef4ae",
   "metadata": {},
   "source": [
    "# Final Project: Analyzing Anime Characters and Ships.\n",
    "COMP 5360 - MATH 4100"
   ]
  },
  {
   "cell_type": "markdown",
   "id": "961fd7ee",
   "metadata": {},
   "source": [
    "## Team Members: the names and UID of your team members.\n",
    "\n",
    "    Name: Alex Kimball\n",
    "    email: alejandro.kimball@utah.edu\n",
    "    Uid: U1195729\n",
    "\n",
    "    Name: Jacky Irwin\n",
    "    email: jacklynn.irwin@utah.edu\n",
    "    Uid: U1109492\n",
    "\n",
    "    Name: Tessa Price\n",
    "    email: tessa.price@utah.edu\n",
    "    Uid: U0731478"
   ]
  },
  {
   "cell_type": "markdown",
   "id": "67a7817a",
   "metadata": {},
   "source": [
    "## Background and Motivation. (2 pts)"
   ]
  },
  {
   "cell_type": "markdown",
   "id": "db430c2c",
   "metadata": {},
   "source": [
    "Reading and watching stories unfold is a past time that many people enjoy. People tend to enjoy gathering and discussing these stories that they are fan of. Every once in a while someone will come up Fanfic, spin off stories of their fandom, and share their stories with others. These stories tend to discuss their favorite pairing of characters or which pating that they wish would come to fruition, which is known as 'shipping' or 'ships'. It is intresting to see how the ships shift or are embraced as the initial story develops further. One of the biggest fandoms that are in the Anime scene right now is *My Hero Academia/Boku no Hero Academia.*"
   ]
  },
  {
   "cell_type": "markdown",
   "id": "80a06a1f",
   "metadata": {},
   "source": [
    "## Project Objectives: Provide the primary questions you are trying to answer in your project. (2 pts)"
   ]
  },
  {
   "cell_type": "markdown",
   "id": "08edc57b",
   "metadata": {},
   "source": [
    "**Primary Questions:** What are the characters that have the highest number of ships? Which characters are discussed the most within the fandom? Are there any correlation withins the ships? Are there spikes in the data relating to the release date of new chapters or episodes?\n",
    "\n",
    "**Want to Learn:** We would like to learn if there are any discernible patterns to be analyzed from the fandom data that could be beneficial for the authors of the fandom and the original anime for future stories, both fanfiction and original.\n",
    "\n",
    "**Benefits:** Finding out what kind of characters are favored and when the spikes are allow authors to improve the stories based on what is more popular with the readers. It can also aid them in figuring out what audience they are reaching.\n",
    "For example: *Star Wars: Clone Wars* was originally targeted towards children. Though through research they found that there was a large number of adults who were watching the show. This allowed them to make changes to the script of the story line to make it more enjoyable for those who were watching."
   ]
  },
  {
   "cell_type": "markdown",
   "id": "d81692d8",
   "metadata": {},
   "source": [
    "## Background: What are the state-of-the-art techniques in dealing with the data of your interest?  (1 pt)"
   ]
  },
  {
   "cell_type": "markdown",
   "id": "6d346255",
   "metadata": {},
   "source": [
    "## Data: descriptions of data, its sources, etc (2 pts)"
   ]
  },
  {
   "cell_type": "markdown",
   "id": "2d9d202a",
   "metadata": {},
   "source": [
    "**We have data from all the current seasons of *My Hero Academia* anime, there are a total of six seasons. It has been cleaned of unnecessary columns and rows. The dates have been converted to pandas datetime format to be usable for analysis. The six seasons have 11 columns: No.overall (Overall number in the whole anime series), the No.inseason (Episode number), Title, Storyboarded by, Directed by, Written by, Original air date, English air date, Viewership rating, Original_Air_Date (pandas datetime format), and English_Air_Date (pandas datatime format). This web-scrape also included the original air date of the seasons with six columns: Season, Episodes, First aired, Last aired, First_Aired (pandas datatime format), Last_Aired (pandas datatime format). \n",
    "\n",
    "We have data for the origiginal video animation release with 7 columns: No., Title, Storyboard by, Directed by, Written by, Original release date, and Original_Release_Date (pandas datetime format). There is also the Japan Home Video data with 5 columns: Season, Volume, Episodes, Release date, and Release_Date (pandas datetime format). \n",
    "\n",
    "There is also data from the release of the funimation/crunchyroll in the North America Region, the Univeral Pictures UK release, and Universal Sony/Madman Entertainment for Australia and New Zealand. They all have five columns for Season, Volume, Episodes, Release Date, and Release_Date (pandas datetime format). The New Zealand release (Madman) has an extra column, because some were released at different dates from the Universal Sony release. \n",
    "\n",
    "We have all the current works of the *My Hero Academia* manga, there are a total of 37 volumes. The manga data has been cleaned of unnecessary columns and rows. The dates have been converted to pandas datetime format to be usable for analysis. The cleaned manga dataframe has 6 columns: No., Title, Original release date, English release date, Original_Release_Date (pandas datetime), and English_Release_Date (pandas datetime).\n",
    "\n",
    "Currently all of the columns, except the ones converted to datetime, are of the class object. Until we know what type of analysis we start doing we didn't want to convert them.\n",
    "\n",
    "We scraped 2,000 fanfictions from Archive of Our Own. The scraped fanfictions has not been cleaned yet. To filter through the fanfictions we scraped a list of characters from *My Hero Academia*.**"
   ]
  },
  {
   "cell_type": "markdown",
   "id": "20252b9f",
   "metadata": {},
   "source": [
    "## Data Processing: showcase the data processing step by step (3 pts)"
   ]
  },
  {
   "cell_type": "markdown",
   "id": "3d8aa3af",
   "metadata": {},
   "source": [
    "## Exploratory Analysis: describe and showcase the exploratory analysis step by step (5 pts)"
   ]
  },
  {
   "cell_type": "markdown",
   "id": "b790bbed",
   "metadata": {},
   "source": [
    "## Analysis Methodology: discuss the chosen methodology (4 pts)"
   ]
  },
  {
   "cell_type": "markdown",
   "id": "88de9bc0",
   "metadata": {},
   "source": [
    "We decided to change our methods from the Milestone Report. The method we chose............"
   ]
  },
  {
   "cell_type": "markdown",
   "id": "7acc2e02",
   "metadata": {},
   "source": [
    "## Data Visualization Module (optional): describe and showcase the visualization method (consider compensation for point loss in other sections. At most 3 pts)"
   ]
  },
  {
   "cell_type": "markdown",
   "id": "3a5236a2",
   "metadata": {},
   "source": [
    "## Results: A summary of the results of the project (6 pts)"
   ]
  },
  {
   "cell_type": "markdown",
   "id": "689d7c58",
   "metadata": {},
   "source": [
    "## Evaluation: What are the metrics used to evaluate how successful your project is? (1 pt)"
   ]
  },
  {
   "cell_type": "markdown",
   "id": "7052fd38",
   "metadata": {},
   "source": [
    "## Ethical Considerations (3 pts)"
   ]
  },
  {
   "cell_type": "markdown",
   "id": "75c5cbad",
   "metadata": {},
   "source": [
    "There are several ethical data concerns that need to be considered for our project. Firstly web-scraping can be illegal. We checked the website's terms, Wikipedia and Archive of Our Own, and they do not mention web-scraping, but there are a multitude of examples and walk-throughs to web-scrape from these websites and neither offer separate API's to web-scrape. Secondly, we have to consider the privacy of the users writing the fanfictions and ensure we are protecting their privacy. Any identifiable personal information will be made anonymous if we scrape it, such as usernames. Thirdly, we must make sure we only use this data for our project as outlined and that we don't use it for any other purpose. Lastly, the results of our analysis must be presented in a way that does not harm any individuals or communities from the *My Hero Academia* fanbase or authors, such as perpetuating harmful stereotypes or biases. We will do this by analyzing the data objectively and any conclusions we make are drawn based solely on the data and not on preconceived notions or biases. "
   ]
  },
  {
   "cell_type": "markdown",
   "id": "b50a4da2",
   "metadata": {},
   "source": [
    "## Project Summary: Answer specific questions below using only 1-2 sentences: (1 pt)\n",
    "What is an overview of your project?\n",
    "What are your project objectives?\n",
    "What are your technical contributions?\n",
    "What are the main results?\n",
    "How are the results evaluated?\n",
    "What are the future directions?"
   ]
  },
  {
   "cell_type": "code",
   "execution_count": null,
   "id": "a8d859bc",
   "metadata": {},
   "outputs": [],
   "source": []
  }
 ],
 "metadata": {
  "kernelspec": {
   "display_name": "Python 3 (ipykernel)",
   "language": "python",
   "name": "python3"
  },
  "language_info": {
   "codemirror_mode": {
    "name": "ipython",
    "version": 3
   },
   "file_extension": ".py",
   "mimetype": "text/x-python",
   "name": "python",
   "nbconvert_exporter": "python",
   "pygments_lexer": "ipython3",
   "version": "3.10.9"
  }
 },
 "nbformat": 4,
 "nbformat_minor": 5
}
