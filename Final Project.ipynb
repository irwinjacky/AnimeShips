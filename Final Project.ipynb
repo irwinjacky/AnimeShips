{
 "cells": [
  {
   "cell_type": "markdown",
   "id": "e39a97a5",
   "metadata": {},
   "source": [
    "# Final Project: Analyzing Anime Characters and Ships.\n",
    "COMP 5360 - MATH 4100"
   ]
  },
  {
   "cell_type": "markdown",
   "id": "5119aa2d",
   "metadata": {},
   "source": [
    "## Team Members: the names and UID of your team members.\n",
    "\n",
    "Tessa Price, u0731478, tessa.price@utah.edu\n",
    "\n",
    "Jacky Irwin \n",
    "\n",
    "Alex Kimball"
   ]
  },
  {
   "cell_type": "markdown",
   "id": "5191f9a9",
   "metadata": {},
   "source": [
    "## Background and Motivation. (2 pts)"
   ]
  },
  {
   "cell_type": "markdown",
   "id": "fe758b45",
   "metadata": {},
   "source": [
    "## Project Objectives: Provide the primary questions you are trying to answer in your project. (2 pts)"
   ]
  },
  {
   "cell_type": "markdown",
   "id": "90ff4083",
   "metadata": {},
   "source": [
    "## Background: What are the state-of-the-art techniques in dealing with the data of your interest?  (1 pt)"
   ]
  },
  {
   "cell_type": "markdown",
   "id": "16ba42d7",
   "metadata": {},
   "source": [
    "## Data: descriptions of data, its sources, etc (2 pts)"
   ]
  },
  {
   "cell_type": "markdown",
   "id": "ea74f09b",
   "metadata": {},
   "source": [
    "## Data Processing: showcase the data processing step by step (3 pts)"
   ]
  },
  {
   "cell_type": "markdown",
   "id": "154e511d",
   "metadata": {},
   "source": [
    "## Exploratory Analysis: describe and showcase the exploratory analysis step by step (5 pts)"
   ]
  },
  {
   "cell_type": "markdown",
   "id": "117e1891",
   "metadata": {},
   "source": [
    "## Analysis Methodology: discuss the chosen methodology (4 pts)"
   ]
  },
  {
   "cell_type": "markdown",
   "id": "67ab2f62",
   "metadata": {},
   "source": [
    "## Data Visualization Module (optional): describe and showcase the visualization method (consider compensation for point loss in other sections. At most 3 pts)"
   ]
  },
  {
   "cell_type": "markdown",
   "id": "eba1a013",
   "metadata": {},
   "source": [
    "## Results: A summary of the results of the project (6 pts)"
   ]
  },
  {
   "cell_type": "markdown",
   "id": "8206eeaf",
   "metadata": {},
   "source": [
    "## Evaluation: What are the metrics used to evaluate how successful your project is? (1 pt)"
   ]
  },
  {
   "cell_type": "markdown",
   "id": "df0fd76e",
   "metadata": {},
   "source": [
    "## Ethical Considerations (3 pts)"
   ]
  },
  {
   "cell_type": "markdown",
   "id": "6d5ef2e1",
   "metadata": {},
   "source": [
    "## Project Summary: Answer specific questions below using only 1-2 sentences: (1 pt)\n",
    "What is an overview of your project?\n",
    "What are your project objectives?\n",
    "What are your technical contributions?\n",
    "What are the main results?\n",
    "How are the results evaluated?\n",
    "What are the future directions?"
   ]
  },
  {
   "cell_type": "code",
   "execution_count": null,
   "id": "af7e8e08",
   "metadata": {},
   "outputs": [],
   "source": []
  }
 ],
 "metadata": {
  "kernelspec": {
   "display_name": "Python 3 (ipykernel)",
   "language": "python",
   "name": "python3"
  },
  "language_info": {
   "codemirror_mode": {
    "name": "ipython",
    "version": 3
   },
   "file_extension": ".py",
   "mimetype": "text/x-python",
   "name": "python",
   "nbconvert_exporter": "python",
   "pygments_lexer": "ipython3",
   "version": "3.10.9"
  }
 },
 "nbformat": 4,
 "nbformat_minor": 5
}
