{
 "cells": [
  {
   "cell_type": "markdown",
   "id": "2b871fe7",
   "metadata": {},
   "source": [
    "# Milestone Report"
   ]
  },
  {
   "cell_type": "markdown",
   "id": "27491ec5",
   "metadata": {},
   "source": [
    "##### Jacky Irwin: u1109492\n",
    "##### Alex Kimball: u1195729\n",
    "##### Tessa Price: u0731478"
   ]
  },
  {
   "cell_type": "markdown",
   "id": "d67585ec",
   "metadata": {},
   "source": [
    "#### Project Description:\n"
   ]
  },
  {
   "cell_type": "markdown",
   "id": "edd9f0e3",
   "metadata": {},
   "source": [
    "TBD"
   ]
  },
  {
   "cell_type": "markdown",
   "id": "b39ef9a8",
   "metadata": {},
   "source": [
    "#### Data and data description:\n"
   ]
  },
  {
   "cell_type": "markdown",
   "id": "28d9cf48",
   "metadata": {},
   "source": [
    "TBD"
   ]
  },
  {
   "cell_type": "markdown",
   "id": "c959fbdd",
   "metadata": {},
   "source": [
    "#### Ethical data concerns:\n"
   ]
  },
  {
   "cell_type": "markdown",
   "id": "31e9a97b",
   "metadata": {},
   "source": [
    "TBD"
   ]
  },
  {
   "cell_type": "markdown",
   "id": "ee443e92",
   "metadata": {},
   "source": [
    "#### Preliminary results:\n"
   ]
  },
  {
   "cell_type": "markdown",
   "id": "d4088ae0",
   "metadata": {},
   "source": [
    "TBD"
   ]
  },
  {
   "cell_type": "markdown",
   "id": "13b9e21a",
   "metadata": {},
   "source": [
    "#### Peer feedback:"
   ]
  },
  {
   "cell_type": "markdown",
   "id": "b0485e74",
   "metadata": {},
   "source": [
    "We recieved feedback from Taryn Rahman, Christa Shorter, and Ed Liu. "
   ]
  },
  {
   "cell_type": "markdown",
   "id": "d7de3843",
   "metadata": {},
   "source": [
    "   For our feedback they thought our topic is interesting and suitable for the class. We are keeping our scope to one anime show, and they thought that was appropriate. They were concerned we hadn't fine-tuned our optional and must-have features, we didn't have those ready yet because we had just barely started web-scraping the data. We have figured those out now and our must-have features are: [][][][][][][][] and our optional features are: [][][][][][][][]. Our stakeholder analysis was comprehensive with specific ethical issues.\n",
    "\n",
    "   We let our peer reviewers know that there are other people who have done a similar project that we could refer to if we hit a roadblock or ask instructors for help, so our data acquisition plan is realistic. The acquisition of the data will be significant, there is no existing dataset to refer to. The clean-up should be a moderate amount due to the web-scraping we had to do, but it shouldn't be more than what was taught in class.  There will be enough data for the stated objectives because even though we are only analyzing one show, there are six seasons of the show and over [5,000?] fanfictions written. \n",
    "\n",
    "   Our reviewers thought that we could utilize a correlation matrix on the variables for part of our analysis method. They also recommended we try a predictive analysis if we try to draw any conclusions from the data, such as seeing if we can predict a spike in viewership based on the current data."
   ]
  },
  {
   "cell_type": "markdown",
   "id": "366e85f7",
   "metadata": {},
   "source": [
    "#### A list of completed milestones:\n"
   ]
  },
  {
   "cell_type": "markdown",
   "id": "9c6307dc",
   "metadata": {},
   "source": [
    "TBD"
   ]
  },
  {
   "cell_type": "markdown",
   "id": "4bd7ea54",
   "metadata": {},
   "source": [
    "#### A list of completed milestones:"
   ]
  },
  {
   "cell_type": "markdown",
   "id": "93745b69",
   "metadata": {},
   "source": [
    "TBD"
   ]
  },
  {
   "cell_type": "markdown",
   "id": "e7029a84",
   "metadata": {},
   "source": [
    "#### A list of upcoming milestones:"
   ]
  },
  {
   "cell_type": "markdown",
   "id": "9d0a59b1",
   "metadata": {},
   "source": []
  },
  {
   "cell_type": "markdown",
   "id": "b7f58729",
   "metadata": {},
   "source": [
    "#### Potential modification to the project, justification, and updated milestones: (OPTIONAL)"
   ]
  },
  {
   "cell_type": "markdown",
   "id": "d775c2ae",
   "metadata": {},
   "source": []
  },
  {
   "cell_type": "markdown",
   "id": "68d4ef13",
   "metadata": {},
   "source": [
    "#### Summary:\n"
   ]
  },
  {
   "cell_type": "markdown",
   "id": "a09fbe7a",
   "metadata": {},
   "source": []
  },
  {
   "cell_type": "markdown",
   "id": "25904a5c",
   "metadata": {},
   "source": [
    "#### Assessment:"
   ]
  },
  {
   "cell_type": "markdown",
   "id": "1e653461",
   "metadata": {},
   "source": []
  }
 ],
 "metadata": {
  "kernelspec": {
   "display_name": "Python 3 (ipykernel)",
   "language": "python",
   "name": "python3"
  },
  "language_info": {
   "codemirror_mode": {
    "name": "ipython",
    "version": 3
   },
   "file_extension": ".py",
   "mimetype": "text/x-python",
   "name": "python",
   "nbconvert_exporter": "python",
   "pygments_lexer": "ipython3",
   "version": "3.9.13"
  }
 },
 "nbformat": 4,
 "nbformat_minor": 5
}
