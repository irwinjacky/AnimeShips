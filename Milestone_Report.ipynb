{
 "cells": [
  {
   "cell_type": "markdown",
   "id": "2b871fe7",
   "metadata": {},
   "source": [
    "# Milestone Report"
   ]
  },
  {
   "cell_type": "markdown",
   "id": "27491ec5",
   "metadata": {},
   "source": [
    "##### Jacky Irwin: u1109492\n",
    "##### Alex Kimball: u1195729\n",
    "##### Tessa Price: u0731478"
   ]
  },
  {
   "cell_type": "markdown",
   "id": "d67585ec",
   "metadata": {},
   "source": [
    "#### Project Description:\n"
   ]
  },
  {
   "cell_type": "markdown",
   "id": "edd9f0e3",
   "metadata": {},
   "source": [
    " The goal of this project is to gather and analyze data on the popularity of *My Hero Academia* and it's related fanfiction writings by web-scraping Archive of Our Own, *My Hero Academia* Episodes Wikpedia page, and *My Hero Academia* Chapters Wikipedia page. The data will include information on the viewership ratings, original air date, English air date, any ships from the fanfictions, and the number of fanction writings published during different periods of time. By analyzing this data, we aim to identify discernible patterns or trends that indicate upticks in viewer ships, upticks in fanfictions being written when the show is released, or changes in fan ships happening in the fanfictions. This information can be used by producers and writers to understand the impact of their work on the audience and to make decisions about the future of *My Hero Academia*."
   ]
  },
  {
   "cell_type": "markdown",
   "id": "b39ef9a8",
   "metadata": {},
   "source": [
    "#### Data and data description:\n"
   ]
  },
  {
   "cell_type": "markdown",
   "id": "28d9cf48",
   "metadata": {},
   "source": [
    "TBD"
   ]
  },
  {
   "cell_type": "markdown",
   "id": "c959fbdd",
   "metadata": {},
   "source": [
    "#### Ethical data concerns:\n"
   ]
  },
  {
   "cell_type": "markdown",
   "id": "31e9a97b",
   "metadata": {},
   "source": [
    "There are several ethical data concerns that need to be considered for our project. Firstly web-scraping can be illegal. We checked the website's terms, Wikipedia and Archive of Our Own, and they do not mention web-scraping, but there are a multitude of examples and walk-throughs to web-scrape from these websites and neither offer separate API's to web-scrape. Secondly, we have to consider the privacy of the users writing the fanfictions and ensure we are protecting their privacy. Any identifable personal information will be made anonymous if we scrape it, such as usernames. Thirdly, we must make sure we only use this data for our project as outlined and that we don't use it for any other purpose. Lastly, the results of our analysis must be presented in a way that does not harm any individuals or communities from the *My Hero Academia* fanbase or authors, such as perpetuating harmful stereotypes or biases. We will do this by analyzing the data objectively and any conclusions we make are drawn based solely on the data and not on preconceived notions or biases. "
   ]
  },
  {
   "cell_type": "markdown",
   "id": "ee443e92",
   "metadata": {},
   "source": [
    "#### Preliminary results:\n"
   ]
  },
  {
   "cell_type": "markdown",
   "id": "d4088ae0",
   "metadata": {},
   "source": [
    "TBD"
   ]
  },
  {
   "cell_type": "markdown",
   "id": "13b9e21a",
   "metadata": {},
   "source": [
    "#### Peer feedback:"
   ]
  },
  {
   "cell_type": "markdown",
   "id": "b0485e74",
   "metadata": {},
   "source": [
    "We recieved feedback from Taryn Rahman, Christa Shorter, and Ed Liu. "
   ]
  },
  {
   "cell_type": "markdown",
   "id": "d7de3843",
   "metadata": {},
   "source": [
    "   For our feedback they thought our topic is interesting and suitable for the class. We are keeping our scope to one anime show, and they thought that was appropriate. They were concerned we hadn't fine-tuned our optional and must-have features, we didn't have those ready yet because we had just barely started web-scraping the data. We have figured those out now and our must-have features are: [][][][][][][][] and our optional features are: [][][][][][][][]. Our stakeholder analysis was comprehensive with specific ethical issues.\n",
    "\n",
    "   We let our peer reviewers know that there are other people who have done a similar project that we could refer to if we hit a roadblock or ask instructors for help, so our data acquisition plan is realistic. The acquisition of the data will be significant, there is no existing dataset to refer to. The clean-up should be a moderate amount due to the web-scraping we had to do, but it shouldn't be more than what was taught in class.  There will be enough data for the stated objectives because even though we are only analyzing one show, there are six seasons of the show and over [5,000?] fanfictions written. \n",
    "\n",
    "   Our reviewers thought that we could utilize a correlation matrix on the variables for part of our analysis method. They also recommended we try a predictive analysis if we try to draw any conclusions from the data, such as seeing if we can predict a spike in viewership based on the current data."
   ]
  },
  {
   "cell_type": "markdown",
   "id": "366e85f7",
   "metadata": {},
   "source": [
    "#### A list of completed milestones:\n"
   ]
  },
  {
   "cell_type": "markdown",
   "id": "9c6307dc",
   "metadata": {},
   "source": [
    "We have cleaned the data from the Wikipedia pages: removing any unnecessary rows or columns, changing the format of the release and air dates to pandas datetime, and ?"
   ]
  },
  {
   "cell_type": "markdown",
   "id": "4bd7ea54",
   "metadata": {},
   "source": [
    "#### A list of completed milestones:"
   ]
  },
  {
   "cell_type": "markdown",
   "id": "93745b69",
   "metadata": {},
   "source": [
    "TBD"
   ]
  },
  {
   "cell_type": "markdown",
   "id": "e7029a84",
   "metadata": {},
   "source": [
    "#### A list of upcoming milestones:"
   ]
  },
  {
   "cell_type": "markdown",
   "id": "9d0a59b1",
   "metadata": {},
   "source": [
    "TBD"
   ]
  },
  {
   "cell_type": "markdown",
   "id": "b7f58729",
   "metadata": {},
   "source": [
    "#### Potential modification to the project, justification, and updated milestones: (OPTIONAL)"
   ]
  },
  {
   "cell_type": "markdown",
   "id": "d775c2ae",
   "metadata": {},
   "source": [
    "TBD"
   ]
  },
  {
   "cell_type": "markdown",
   "id": "68d4ef13",
   "metadata": {},
   "source": [
    "#### Summary:\n"
   ]
  },
  {
   "cell_type": "markdown",
   "id": "a09fbe7a",
   "metadata": {},
   "source": [
    "TBD"
   ]
  },
  {
   "cell_type": "markdown",
   "id": "25904a5c",
   "metadata": {},
   "source": [
    "#### Assessment:"
   ]
  },
  {
   "cell_type": "markdown",
   "id": "1e653461",
   "metadata": {},
   "source": [
    "TBD"
   ]
  },
  {
   "cell_type": "code",
   "execution_count": null,
   "id": "7877886e",
   "metadata": {},
   "outputs": [],
   "source": []
  }
 ],
 "metadata": {
  "kernelspec": {
   "display_name": "Python 3 (ipykernel)",
   "language": "python",
   "name": "python3"
  },
  "language_info": {
   "codemirror_mode": {
    "name": "ipython",
    "version": 3
   },
   "file_extension": ".py",
   "mimetype": "text/x-python",
   "name": "python",
   "nbconvert_exporter": "python",
   "pygments_lexer": "ipython3",
   "version": "3.9.13"
  }
 },
 "nbformat": 4,
 "nbformat_minor": 5
}
